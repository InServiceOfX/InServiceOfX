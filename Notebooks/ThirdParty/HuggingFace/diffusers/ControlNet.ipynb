{
 "cells": [
  {
   "cell_type": "markdown",
   "id": "4496ef4b",
   "metadata": {},
   "source": [
    "### Local Setup"
   ]
  },
  {
   "cell_type": "code",
   "execution_count": 1,
   "id": "94fc11b1",
   "metadata": {},
   "outputs": [
    {
     "name": "stdout",
     "output_type": "stream",
     "text": [
      "/InServiceOfX\n",
      "Is CoreCode directory in sys.path? False\n",
      "Is notebook directory's ancestor in sys.path? False\n"
     ]
    }
   ],
   "source": [
    "from pathlib import Path\n",
    "import sys\n",
    "\n",
    "# Make this path be the project's \"base\" directory, so we can include modules\n",
    "notebook_directory_ancestor = Path.cwd().resolve().parent.parent.parent.parent\n",
    "print(notebook_directory_ancestor)\n",
    "core_code_directory = notebook_directory_ancestor / \"PythonLibraries\" / \"CoreCode\"\n",
    "\n",
    "is_core_code_directory_in_sys_path = str(core_code_directory) in sys.path\n",
    "is_notebook_directory_ancestor_in_sys_path = str(notebook_directory_ancestor) in sys.path\n",
    "print(\"Is CoreCode directory in sys.path?\", is_core_code_directory_in_sys_path)\n",
    "print(\"Is notebook directory's ancestor in sys.path?\", is_notebook_directory_ancestor_in_sys_path)\n",
    "\n",
    "if not is_core_code_directory_in_sys_path:\n",
    "    sys.path.append(str(core_code_directory))\n",
    "    \n",
    "from corecode.Utilities import (\n",
    "    DataSubdirectories,\n",
    "    )\n",
    "data_sub_dirs = DataSubdirectories()"
   ]
  },
  {
   "cell_type": "code",
   "execution_count": 2,
   "id": "1c5d0af6",
   "metadata": {},
   "outputs": [],
   "source": [
    "instant_id_path = notebook_directory_ancestor.parent / \"ThirdParty\" / \"InstantID\"\n",
    "if (instant_id_path.exists() and str(instant_id_path) not in sys.path):\n",
    "    sys.path.append(str(instant_id_path))"
   ]
  },
  {
   "cell_type": "code",
   "execution_count": 3,
   "id": "ca9442cc",
   "metadata": {},
   "outputs": [
    {
     "name": "stdout",
     "output_type": "stream",
     "text": [
      "added MoreInsightFace\n"
     ]
    }
   ],
   "source": [
    "more_insight_face_directory = notebook_directory_ancestor / \"PythonLibraries\" / \"ThirdParties\" / \"MoreInsightFace\"\n",
    "if (more_insight_face_directory.exists() and str(more_insight_face_directory) not in sys.path):\n",
    "    sys.path.append(str(more_insight_face_directory))\n",
    "    print(\"added MoreInsightFace\")"
   ]
  },
  {
   "cell_type": "code",
   "execution_count": 2,
   "id": "f9aec025",
   "metadata": {},
   "outputs": [
    {
     "name": "stdout",
     "output_type": "stream",
     "text": [
      "True\n"
     ]
    }
   ],
   "source": [
    "controlnet_path = data_sub_dirs.ModelsDiffusion / \"InstantX\" / \"InstantID\" / \"ControlNetModel\"\n",
    "print(controlnet_path.exists())"
   ]
  },
  {
   "cell_type": "code",
   "execution_count": 14,
   "id": "09b056ad",
   "metadata": {},
   "outputs": [],
   "source": [
    "from diffusers.models import ControlNetModel\n",
    "from diffusers.utils.torch_utils import is_compiled_module\n",
    "import torch"
   ]
  },
  {
   "cell_type": "code",
   "execution_count": 4,
   "id": "5666a283",
   "metadata": {},
   "outputs": [],
   "source": [
    "controlnet = ControlNetModel.from_pretrained(controlnet_path)"
   ]
  },
  {
   "cell_type": "code",
   "execution_count": 6,
   "id": "e7ae3532",
   "metadata": {},
   "outputs": [
    {
     "data": {
      "text/plain": [
       "True"
      ]
     },
     "execution_count": 6,
     "metadata": {},
     "output_type": "execute_result"
    }
   ],
   "source": [
    "isinstance(controlnet, ControlNetModel)"
   ]
  },
  {
   "cell_type": "code",
   "execution_count": 9,
   "id": "cc99fec9",
   "metadata": {},
   "outputs": [
    {
     "name": "stdout",
     "output_type": "stream",
     "text": [
      "Help on function is_compiled_module in module diffusers.utils.torch_utils:\n",
      "\n",
      "is_compiled_module(module) -> bool\n",
      "    Check whether the module was compiled with torch.compile()\n",
      "\n"
     ]
    }
   ],
   "source": [
    "help(is_compiled_module)"
   ]
  },
  {
   "cell_type": "code",
   "execution_count": 11,
   "id": "e47983f0",
   "metadata": {},
   "outputs": [
    {
     "data": {
      "text/plain": [
       "False"
      ]
     },
     "execution_count": 11,
     "metadata": {},
     "output_type": "execute_result"
    }
   ],
   "source": [
    "is_compiled_module(controlnet)"
   ]
  },
  {
   "cell_type": "code",
   "execution_count": 12,
   "id": "c393d472",
   "metadata": {},
   "outputs": [
    {
     "data": {
      "text/plain": [
       "FrozenDict([('in_channels', 4),\n",
       "            ('conditioning_channels', 3),\n",
       "            ('flip_sin_to_cos', True),\n",
       "            ('freq_shift', 0),\n",
       "            ('down_block_types',\n",
       "             ['DownBlock2D', 'CrossAttnDownBlock2D', 'CrossAttnDownBlock2D']),\n",
       "            ('mid_block_type', 'UNetMidBlock2DCrossAttn'),\n",
       "            ('only_cross_attention', False),\n",
       "            ('block_out_channels', [320, 640, 1280]),\n",
       "            ('layers_per_block', 2),\n",
       "            ('downsample_padding', 1),\n",
       "            ('mid_block_scale_factor', 1),\n",
       "            ('act_fn', 'silu'),\n",
       "            ('norm_num_groups', 32),\n",
       "            ('norm_eps', 1e-05),\n",
       "            ('cross_attention_dim', 2048),\n",
       "            ('transformer_layers_per_block', [1, 2, 10]),\n",
       "            ('encoder_hid_dim', None),\n",
       "            ('encoder_hid_dim_type', None),\n",
       "            ('attention_head_dim', [5, 10, 20]),\n",
       "            ('num_attention_heads', None),\n",
       "            ('use_linear_projection', True),\n",
       "            ('class_embed_type', None),\n",
       "            ('addition_embed_type', 'text_time'),\n",
       "            ('addition_time_embed_dim', 256),\n",
       "            ('num_class_embeds', None),\n",
       "            ('upcast_attention', None),\n",
       "            ('resnet_time_scale_shift', 'default'),\n",
       "            ('projection_class_embeddings_input_dim', 2816),\n",
       "            ('controlnet_conditioning_channel_order', 'rgb'),\n",
       "            ('conditioning_embedding_out_channels', [16, 32, 96, 256]),\n",
       "            ('global_pool_conditions', False),\n",
       "            ('addition_embed_type_num_heads', 64),\n",
       "            ('_use_default_values', ['mid_block_type']),\n",
       "            ('_class_name', 'ControlNetModel'),\n",
       "            ('_diffusers_version', '0.21.2'),\n",
       "            ('_name_or_path',\n",
       "             PosixPath('/Data/Models/Diffusion/InstantX/InstantID/ControlNetModel'))])"
      ]
     },
     "execution_count": 12,
     "metadata": {},
     "output_type": "execute_result"
    }
   ],
   "source": [
    "controlnet.config"
   ]
  },
  {
   "cell_type": "code",
   "execution_count": 16,
   "id": "b80f6737",
   "metadata": {},
   "outputs": [
    {
     "data": {
      "text/plain": [
       "False"
      ]
     },
     "execution_count": 16,
     "metadata": {},
     "output_type": "execute_result"
    }
   ],
   "source": [
    "controlnet.config.global_pool_conditions"
   ]
  },
  {
   "cell_type": "code",
   "execution_count": 17,
   "id": "53b4fed8",
   "metadata": {},
   "outputs": [
    {
     "data": {
      "text/plain": [
       "torch.float16"
      ]
     },
     "execution_count": 17,
     "metadata": {},
     "output_type": "execute_result"
    }
   ],
   "source": [
    "controlnet.dtype"
   ]
  },
  {
   "cell_type": "code",
   "execution_count": 15,
   "id": "d2dbd5ef",
   "metadata": {},
   "outputs": [],
   "source": [
    "# See diffusers/models/controlnet.py and __init__(..)\n",
    "controlnet = ControlNetModel.from_pretrained(\n",
    "    controlnet_path,\n",
    "    torch_dtype=torch.float16,\n",
    "    use_safetensors=True,\n",
    "    local_files_only=True)"
   ]
  },
  {
   "cell_type": "code",
   "execution_count": 21,
   "id": "54639edb",
   "metadata": {},
   "outputs": [],
   "source": [
    "from pipeline_stable_diffusion_xl_instantid import StableDiffusionXLInstantIDPipeline"
   ]
  },
  {
   "cell_type": "markdown",
   "id": "9f09325b",
   "metadata": {},
   "source": [
    "self.do_classifier_free_guidance is not defined as a class member that is inherited in, say, an __init__() or a class member function, rather, it is decorated with @property as a class member function that takes as input `self`. This property is not inherited, but manually copied for each Python class that needs it.\n",
    "\n",
    "See for example pipeline_stable_diffusion_xl.py in pipelines/stable_diffusion_xl of diffusers, but there are multiple examples of this."
   ]
  },
  {
   "cell_type": "code",
   "execution_count": 22,
   "id": "c60118d5",
   "metadata": {},
   "outputs": [
    {
     "data": {
      "text/plain": [
       "<property at 0x71d1ed3d9d00>"
      ]
     },
     "execution_count": 22,
     "metadata": {},
     "output_type": "execute_result"
    }
   ],
   "source": [
    "StableDiffusionXLInstantIDPipeline.do_classifier_free_guidance"
   ]
  },
  {
   "cell_type": "code",
   "execution_count": 23,
   "id": "a10595c1",
   "metadata": {},
   "outputs": [
    {
     "name": "stdout",
     "output_type": "stream",
     "text": [
      "/Data/Models/Diffusion/fluently/Fluently-XL-v4\n",
      "True\n"
     ]
    }
   ],
   "source": [
    "model_subdir = data_sub_dirs.ModelsDiffusion / \"fluently\" / \"Fluently-XL-v4\"\n",
    "print(model_subdir)\n",
    "print(model_subdir.exists())"
   ]
  },
  {
   "cell_type": "code",
   "execution_count": 24,
   "id": "00eaff0e",
   "metadata": {},
   "outputs": [
    {
     "name": "stdout",
     "output_type": "stream",
     "text": [
      "CPU times: user 1e+03 ns, sys: 1 µs, total: 2 µs\n",
      "Wall time: 4.53 µs\n"
     ]
    },
    {
     "data": {
      "application/vnd.jupyter.widget-view+json": {
       "model_id": "c34aec000f584c0fa2a901c3a5a02f55",
       "version_major": 2,
       "version_minor": 0
      },
      "text/plain": [
       "Loading pipeline components...:   0%|          | 0/7 [00:00<?, ?it/s]"
      ]
     },
     "metadata": {},
     "output_type": "display_data"
    },
    {
     "name": "stdout",
     "output_type": "stream",
     "text": [
      "cached_folder:  /Data/Models/Diffusion/fluently/Fluently-XL-v4\n",
      "name:  text_encoder\n",
      "{'torch_dtype': torch.float16, 'device_map': None, 'max_memory': None, 'offload_folder': None, 'offload_state_dict': False, 'low_cpu_mem_usage': True}\n",
      "cached_folder:  /Data/Models/Diffusion/fluently/Fluently-XL-v4\n",
      "name:  tokenizer_2\n",
      "{}\n",
      "cached_folder:  /Data/Models/Diffusion/fluently/Fluently-XL-v4\n",
      "name:  tokenizer\n",
      "{}\n",
      "cached_folder:  /Data/Models/Diffusion/fluently/Fluently-XL-v4\n",
      "name:  scheduler\n",
      "{}\n",
      "cached_folder:  /Data/Models/Diffusion/fluently/Fluently-XL-v4\n",
      "name:  vae\n",
      "{'torch_dtype': torch.float16, 'device_map': None, 'max_memory': None, 'offload_folder': None, 'offload_state_dict': False, 'variant': None, 'low_cpu_mem_usage': True}\n",
      "cached_folder:  /Data/Models/Diffusion/fluently/Fluently-XL-v4\n",
      "name:  text_encoder_2\n",
      "{'torch_dtype': torch.float16, 'device_map': None, 'max_memory': None, 'offload_folder': None, 'offload_state_dict': False, 'low_cpu_mem_usage': True}\n",
      "cached_folder:  /Data/Models/Diffusion/fluently/Fluently-XL-v4\n",
      "name:  unet\n",
      "{'torch_dtype': torch.float16, 'device_map': None, 'max_memory': None, 'offload_folder': None, 'offload_state_dict': False, 'variant': None, 'low_cpu_mem_usage': True}\n"
     ]
    }
   ],
   "source": [
    "%time\n",
    "pipe = StableDiffusionXLInstantIDPipeline.from_pretrained(\n",
    "    str(model_subdir),\n",
    "    controlnet=controlnet,\n",
    "    #revision=\"fp16\",\n",
    "    torch_dtype=torch.float16,\n",
    "    local_files_only=True,)"
   ]
  },
  {
   "cell_type": "markdown",
   "id": "60a3a652",
   "metadata": {},
   "source": [
    "The attribute `self._guidance_scale` and therefore also properties `do_classifier_free_guidance` only come into existence on a `__call__` call, see pipelines/controlnet/pipeline_controlnet_sd_xl.py and `__call__` function definition for the class. Also notice that do_classifier_free_guidance is defined as a class member function and decorated with a `@property` - treat this as syntactic sugar at a rudimentary level.\n",
    "\n",
    "Also, note that guidance scale comes in as an optional parameter in the call function, with default value at 5.0."
   ]
  },
  {
   "cell_type": "code",
   "execution_count": 53,
   "id": "b1c8914d",
   "metadata": {},
   "outputs": [],
   "source": [
    "# AttributeError\n",
    "# AttributeError: 'StableDiffusionXLInstantIDPipeline' object has no attribute '_guidance_scale'\n",
    "#print(pipe.do_classifier_free_guidance)\n",
    "#print(type(pipe.do_classifier_free_guidance))\n",
    "#print(pipe._guidance_scale())\n",
    "#print(type(pipe._guidance_scale))\n",
    "\n",
    "# AttributeError: 'StableDiffusionXLInstantIDPipeline' object has no attribute '_guidance_scale'\n",
    "#StableDiffusionXLInstantIDPipeline.do_classifier_free_guidance.__get__(pipe)\n",
    "\n",
    "#AttributeError: 'StableDiffusionXLInstantIDPipeline' object has no attribute '_guidance_scale'\n",
    "#StableDiffusionXLInstantIDPipeline.guidance_scale.__get__(pipe)\n",
    "\n",
    "# AttributeError: 'StableDiffusionXLInstantIDPipeline' object has no attribute '_guidance_scale'\n",
    "#pipe._guidance_scale"
   ]
  },
  {
   "cell_type": "code",
   "execution_count": 55,
   "id": "987edc38",
   "metadata": {},
   "outputs": [
    {
     "name": "stdout",
     "output_type": "stream",
     "text": [
      "None\n",
      "<class 'NoneType'>\n"
     ]
    }
   ],
   "source": [
    "print(pipe.unet.config.time_cond_proj_dim)\n",
    "print(type(pipe.unet.config.time_cond_proj_dim))"
   ]
  },
  {
   "cell_type": "markdown",
   "id": "10343e87",
   "metadata": {},
   "source": [
    "guess_mode is default False in `__call__` in pipeline_stable_diffusion_xl_instantid.py of InstantID."
   ]
  },
  {
   "cell_type": "code",
   "execution_count": 57,
   "id": "623f13a5",
   "metadata": {},
   "outputs": [
    {
     "name": "stdout",
     "output_type": "stream",
     "text": [
      "False\n",
      "<class 'bool'>\n",
      "False\n"
     ]
    }
   ],
   "source": [
    "global_pool_conditions = (\n",
    "    controlnet.config.global_pool_conditions\n",
    "    if isinstance(controlnet, ControlNetModel)\n",
    "    else controlnet.nets[0].config.global_pool_conditions)\n",
    "print(global_pool_conditions)\n",
    "print(type(global_pool_conditions))\n",
    "guess_mode = False\n",
    "guess_mode = guess_mode or global_pool_conditions\n",
    "print(guess_mode)"
   ]
  },
  {
   "cell_type": "markdown",
   "id": "11eac009",
   "metadata": {},
   "source": [
    "latents is optional with default None in `__call__` for pipeline_stable_diffusion_xl_instantid.py."
   ]
  },
  {
   "cell_type": "code",
   "execution_count": 58,
   "id": "883ddea9",
   "metadata": {},
   "outputs": [
    {
     "name": "stdout",
     "output_type": "stream",
     "text": [
      "<class 'int'>\n",
      "4\n"
     ]
    }
   ],
   "source": [
    "num_channels_latents = pipe.unet.config.in_channels\n",
    "print(type(num_channels_latents))\n",
    "print(num_channels_latents)\n",
    "\n",
    "#if prompt is not None and isinstance(prompt, str):\n",
    "batch_size = 1\n",
    "#default value in this input\n",
    "num_images_per_prompt = 1\n",
    "latents = pipe.prepare_latents(\n",
    "    batch_size * num_images_per_prompt,\n",
    "    num_channels_latents,\n",
    "    \n",
    ")"
   ]
  },
  {
   "cell_type": "code",
   "execution_count": 5,
   "id": "b9951a33",
   "metadata": {},
   "outputs": [
    {
     "name": "stderr",
     "output_type": "stream",
     "text": [
      "/usr/local/lib/python3.10/dist-packages/numpy/core/getlimits.py:549: UserWarning: The value of the smallest subnormal for <class 'numpy.float64'> type is zero.\n",
      "  setattr(self, word, getattr(machar, word).flat[0])\n",
      "/usr/local/lib/python3.10/dist-packages/numpy/core/getlimits.py:89: UserWarning: The value of the smallest subnormal for <class 'numpy.float64'> type is zero.\n",
      "  return self._float_to_str(self.smallest_subnormal)\n",
      "/usr/local/lib/python3.10/dist-packages/numpy/core/getlimits.py:549: UserWarning: The value of the smallest subnormal for <class 'numpy.float32'> type is zero.\n",
      "  setattr(self, word, getattr(machar, word).flat[0])\n",
      "/usr/local/lib/python3.10/dist-packages/numpy/core/getlimits.py:89: UserWarning: The value of the smallest subnormal for <class 'numpy.float32'> type is zero.\n",
      "  return self._float_to_str(self.smallest_subnormal)\n"
     ]
    }
   ],
   "source": [
    "from moreinsightface.Wrappers import FaceAnalysisWrapper"
   ]
  },
  {
   "cell_type": "code",
   "execution_count": 7,
   "id": "f1b65110",
   "metadata": {},
   "outputs": [],
   "source": [
    "def get_pose_information(model_name, model_root_directory, image_path):\n",
    "    \"\"\"\n",
    "    By creating an object for FaceAnalysisWrapper, which wraps FaceAnalysis, within this function, the\n",
    "    object goes out of scope once the function is done.\n",
    "    \"\"\"\n",
    "    face_analysis_wrapper = FaceAnalysisWrapper(model_name, model_root_directory)\n",
    "    pose_information = face_analysis_wrapper.get_pose_info_from_image(\n",
    "        image_path)\n",
    "    return pose_information"
   ]
  },
  {
   "cell_type": "code",
   "execution_count": 8,
   "id": "e50371de",
   "metadata": {},
   "outputs": [
    {
     "name": "stdout",
     "output_type": "stream",
     "text": [
      "Applied providers: ['CUDAExecutionProvider', 'CPUExecutionProvider'], with options: {'CPUExecutionProvider': {}, 'CUDAExecutionProvider': {'prefer_nhwc': '0', 'enable_skip_layer_norm_strict_mode': '0', 'tunable_op_max_tuning_duration_ms': '0', 'use_ep_level_unified_stream': '0', 'tunable_op_enable': '0', 'enable_cuda_graph': '0', 'cudnn_conv_use_max_workspace': '1', 'do_copy_in_default_stream': '1', 'cudnn_conv_algo_search': 'EXHAUSTIVE', 'gpu_external_empty_cache': '0', 'gpu_external_free': '0', 'tunable_op_tuning_enable': '0', 'cudnn_conv1d_pad_to_nc1d': '0', 'gpu_external_alloc': '0', 'arena_extend_strategy': 'kNextPowerOfTwo', 'has_user_compute_stream': '0', 'gpu_mem_limit': '18446744073709551615', 'device_id': '0'}}\n",
      "find model: /Data/Models/Diffusion/InstantX/antelopev2/1k3d68.onnx landmark_3d_68 ['None', 3, 192, 192] 0.0 1.0\n",
      "Applied providers: ['CUDAExecutionProvider', 'CPUExecutionProvider'], with options: {'CPUExecutionProvider': {}, 'CUDAExecutionProvider': {'prefer_nhwc': '0', 'enable_skip_layer_norm_strict_mode': '0', 'tunable_op_max_tuning_duration_ms': '0', 'use_ep_level_unified_stream': '0', 'tunable_op_enable': '0', 'enable_cuda_graph': '0', 'cudnn_conv_use_max_workspace': '1', 'do_copy_in_default_stream': '1', 'cudnn_conv_algo_search': 'EXHAUSTIVE', 'gpu_external_empty_cache': '0', 'gpu_external_free': '0', 'tunable_op_tuning_enable': '0', 'cudnn_conv1d_pad_to_nc1d': '0', 'gpu_external_alloc': '0', 'arena_extend_strategy': 'kNextPowerOfTwo', 'has_user_compute_stream': '0', 'gpu_mem_limit': '18446744073709551615', 'device_id': '0'}}\n",
      "find model: /Data/Models/Diffusion/InstantX/antelopev2/2d106det.onnx landmark_2d_106 ['None', 3, 192, 192] 0.0 1.0\n",
      "Applied providers: ['CUDAExecutionProvider', 'CPUExecutionProvider'], with options: {'CPUExecutionProvider': {}, 'CUDAExecutionProvider': {'prefer_nhwc': '0', 'enable_skip_layer_norm_strict_mode': '0', 'tunable_op_max_tuning_duration_ms': '0', 'use_ep_level_unified_stream': '0', 'tunable_op_enable': '0', 'enable_cuda_graph': '0', 'cudnn_conv_use_max_workspace': '1', 'do_copy_in_default_stream': '1', 'cudnn_conv_algo_search': 'EXHAUSTIVE', 'gpu_external_empty_cache': '0', 'gpu_external_free': '0', 'tunable_op_tuning_enable': '0', 'cudnn_conv1d_pad_to_nc1d': '0', 'gpu_external_alloc': '0', 'arena_extend_strategy': 'kNextPowerOfTwo', 'has_user_compute_stream': '0', 'gpu_mem_limit': '18446744073709551615', 'device_id': '0'}}\n",
      "find model: /Data/Models/Diffusion/InstantX/antelopev2/genderage.onnx genderage ['None', 3, 96, 96] 0.0 1.0\n",
      "Applied providers: ['CUDAExecutionProvider', 'CPUExecutionProvider'], with options: {'CPUExecutionProvider': {}, 'CUDAExecutionProvider': {'prefer_nhwc': '0', 'enable_skip_layer_norm_strict_mode': '0', 'tunable_op_max_tuning_duration_ms': '0', 'use_ep_level_unified_stream': '0', 'tunable_op_enable': '0', 'enable_cuda_graph': '0', 'cudnn_conv_use_max_workspace': '1', 'do_copy_in_default_stream': '1', 'cudnn_conv_algo_search': 'EXHAUSTIVE', 'gpu_external_empty_cache': '0', 'gpu_external_free': '0', 'tunable_op_tuning_enable': '0', 'cudnn_conv1d_pad_to_nc1d': '0', 'gpu_external_alloc': '0', 'arena_extend_strategy': 'kNextPowerOfTwo', 'has_user_compute_stream': '0', 'gpu_mem_limit': '18446744073709551615', 'device_id': '0'}}\n",
      "find model: /Data/Models/Diffusion/InstantX/antelopev2/glintr100.onnx recognition ['None', 3, 112, 112] 127.5 127.5\n",
      "Applied providers: ['CUDAExecutionProvider', 'CPUExecutionProvider'], with options: {'CPUExecutionProvider': {}, 'CUDAExecutionProvider': {'prefer_nhwc': '0', 'enable_skip_layer_norm_strict_mode': '0', 'tunable_op_max_tuning_duration_ms': '0', 'use_ep_level_unified_stream': '0', 'tunable_op_enable': '0', 'enable_cuda_graph': '0', 'cudnn_conv_use_max_workspace': '1', 'do_copy_in_default_stream': '1', 'cudnn_conv_algo_search': 'EXHAUSTIVE', 'gpu_external_empty_cache': '0', 'gpu_external_free': '0', 'tunable_op_tuning_enable': '0', 'cudnn_conv1d_pad_to_nc1d': '0', 'gpu_external_alloc': '0', 'arena_extend_strategy': 'kNextPowerOfTwo', 'has_user_compute_stream': '0', 'gpu_mem_limit': '18446744073709551615', 'device_id': '0'}}\n",
      "find model: /Data/Models/Diffusion/InstantX/antelopev2/scrfd_10g_bnkps.onnx detection [1, 3, '?', '?'] 127.5 128.0\n",
      "set det-size: (256, 256)\n"
     ]
    },
    {
     "name": "stderr",
     "output_type": "stream",
     "text": [
      "/ThirdParty/insightface/python-package/insightface/utils/transform.py:68: FutureWarning: `rcond` parameter will change to the default of machine precision times ``max(M, N)`` where M and N are the input matrix dimensions.\n",
      "To use the future default and silence this warning we advise to pass `rcond=None`, to keep using the old, explicitly pass `rcond=-1`.\n",
      "  P = np.linalg.lstsq(X_homo, Y)[0].T # Affine matrix. 3 x 4\n"
     ]
    },
    {
     "name": "stdout",
     "output_type": "stream",
     "text": [
      "<class 'moreinsightface.Wrappers.FaceAnalysisWrapper.PoseInformation'>\n",
      "<class 'PIL.Image.Image'>\n",
      "1280\n",
      "853\n"
     ]
    },
    {
     "data": {
      "image/jpeg": "[encoded data removed]",
      "image/png": "[encoded data removed]",
      "text/plain": [
       "<PIL.Image.Image image mode=RGB size=853x1280>"
      ]
     },
     "metadata": {},
     "output_type": "display_data"
    }
   ],
   "source": [
    "pose_information = get_pose_information(\n",
    "    \"antelopev2\",\n",
    "    \"/Data/Models/Diffusion/InstantX\",\n",
    "    data_sub_dirs.Public / \"Images\" / \"Playboy\" / \"TeddiSmith\" / \"U6S88ytE0BQ.jpg\")\n",
    "\n",
    "print(type(pose_information))\n",
    "print(type(pose_information.pose_keypoints))\n",
    "print(pose_information.height)\n",
    "print(pose_information.width)\n",
    "pose_information.pose_keypoints.show()"
   ]
  },
  {
   "cell_type": "code",
   "execution_count": 63,
   "id": "f15c86e3",
   "metadata": {},
   "outputs": [
    {
     "name": "stdout",
     "output_type": "stream",
     "text": [
      "Applied providers: ['CUDAExecutionProvider', 'CPUExecutionProvider'], with options: {'CPUExecutionProvider': {}, 'CUDAExecutionProvider': {'prefer_nhwc': '0', 'enable_skip_layer_norm_strict_mode': '0', 'tunable_op_max_tuning_duration_ms': '0', 'use_ep_level_unified_stream': '0', 'tunable_op_enable': '0', 'enable_cuda_graph': '0', 'cudnn_conv_use_max_workspace': '1', 'do_copy_in_default_stream': '1', 'cudnn_conv_algo_search': 'EXHAUSTIVE', 'gpu_external_empty_cache': '0', 'gpu_external_free': '0', 'tunable_op_tuning_enable': '0', 'cudnn_conv1d_pad_to_nc1d': '0', 'gpu_external_alloc': '0', 'arena_extend_strategy': 'kNextPowerOfTwo', 'has_user_compute_stream': '0', 'gpu_mem_limit': '18446744073709551615', 'device_id': '0'}}\n",
      "find model: /Data/Models/Diffusion/InstantX/antelopev2/1k3d68.onnx landmark_3d_68 ['None', 3, 192, 192] 0.0 1.0\n",
      "Applied providers: ['CUDAExecutionProvider', 'CPUExecutionProvider'], with options: {'CPUExecutionProvider': {}, 'CUDAExecutionProvider': {'prefer_nhwc': '0', 'enable_skip_layer_norm_strict_mode': '0', 'tunable_op_max_tuning_duration_ms': '0', 'use_ep_level_unified_stream': '0', 'tunable_op_enable': '0', 'enable_cuda_graph': '0', 'cudnn_conv_use_max_workspace': '1', 'do_copy_in_default_stream': '1', 'cudnn_conv_algo_search': 'EXHAUSTIVE', 'gpu_external_empty_cache': '0', 'gpu_external_free': '0', 'tunable_op_tuning_enable': '0', 'cudnn_conv1d_pad_to_nc1d': '0', 'gpu_external_alloc': '0', 'arena_extend_strategy': 'kNextPowerOfTwo', 'has_user_compute_stream': '0', 'gpu_mem_limit': '18446744073709551615', 'device_id': '0'}}\n",
      "find model: /Data/Models/Diffusion/InstantX/antelopev2/2d106det.onnx landmark_2d_106 ['None', 3, 192, 192] 0.0 1.0\n",
      "Applied providers: ['CUDAExecutionProvider', 'CPUExecutionProvider'], with options: {'CPUExecutionProvider': {}, 'CUDAExecutionProvider': {'prefer_nhwc': '0', 'enable_skip_layer_norm_strict_mode': '0', 'tunable_op_max_tuning_duration_ms': '0', 'use_ep_level_unified_stream': '0', 'tunable_op_enable': '0', 'enable_cuda_graph': '0', 'cudnn_conv_use_max_workspace': '1', 'do_copy_in_default_stream': '1', 'cudnn_conv_algo_search': 'EXHAUSTIVE', 'gpu_external_empty_cache': '0', 'gpu_external_free': '0', 'tunable_op_tuning_enable': '0', 'cudnn_conv1d_pad_to_nc1d': '0', 'gpu_external_alloc': '0', 'arena_extend_strategy': 'kNextPowerOfTwo', 'has_user_compute_stream': '0', 'gpu_mem_limit': '18446744073709551615', 'device_id': '0'}}\n",
      "find model: /Data/Models/Diffusion/InstantX/antelopev2/genderage.onnx genderage ['None', 3, 96, 96] 0.0 1.0\n",
      "Applied providers: ['CUDAExecutionProvider', 'CPUExecutionProvider'], with options: {'CPUExecutionProvider': {}, 'CUDAExecutionProvider': {'prefer_nhwc': '0', 'enable_skip_layer_norm_strict_mode': '0', 'tunable_op_max_tuning_duration_ms': '0', 'use_ep_level_unified_stream': '0', 'tunable_op_enable': '0', 'enable_cuda_graph': '0', 'cudnn_conv_use_max_workspace': '1', 'do_copy_in_default_stream': '1', 'cudnn_conv_algo_search': 'EXHAUSTIVE', 'gpu_external_empty_cache': '0', 'gpu_external_free': '0', 'tunable_op_tuning_enable': '0', 'cudnn_conv1d_pad_to_nc1d': '0', 'gpu_external_alloc': '0', 'arena_extend_strategy': 'kNextPowerOfTwo', 'has_user_compute_stream': '0', 'gpu_mem_limit': '18446744073709551615', 'device_id': '0'}}\n",
      "find model: /Data/Models/Diffusion/InstantX/antelopev2/glintr100.onnx recognition ['None', 3, 112, 112] 127.5 127.5\n",
      "Applied providers: ['CUDAExecutionProvider', 'CPUExecutionProvider'], with options: {'CPUExecutionProvider': {}, 'CUDAExecutionProvider': {'prefer_nhwc': '0', 'enable_skip_layer_norm_strict_mode': '0', 'tunable_op_max_tuning_duration_ms': '0', 'use_ep_level_unified_stream': '0', 'tunable_op_enable': '0', 'enable_cuda_graph': '0', 'cudnn_conv_use_max_workspace': '1', 'do_copy_in_default_stream': '1', 'cudnn_conv_algo_search': 'EXHAUSTIVE', 'gpu_external_empty_cache': '0', 'gpu_external_free': '0', 'tunable_op_tuning_enable': '0', 'cudnn_conv1d_pad_to_nc1d': '0', 'gpu_external_alloc': '0', 'arena_extend_strategy': 'kNextPowerOfTwo', 'has_user_compute_stream': '0', 'gpu_mem_limit': '18446744073709551615', 'device_id': '0'}}\n",
      "find model: /Data/Models/Diffusion/InstantX/antelopev2/scrfd_10g_bnkps.onnx detection [1, 3, '?', '?'] 127.5 128.0\n",
      "set det-size: (256, 256)\n"
     ]
    }
   ],
   "source": [
    "#face_analysis_wrapper = FaceAnalysisWrapper(\"antelopev2\", \"/Data/Models/Diffusion/InstantX\")"
   ]
  },
  {
   "cell_type": "code",
   "execution_count": 4,
   "id": "37e386bb",
   "metadata": {},
   "outputs": [],
   "source": [
    "#pose_information = face_analysis_wrapper.get_pose_info_from_image(\n",
    "#    data_sub_dirs.Public / \"Images\" / \"Playboy\" / \"TeddiSmith\" / \"U6S88ytE0BQ.jpg\")\n",
    "#print(type(pose_information))\n",
    "#print(type(pose_information.pose_keypoints))\n",
    "#print(pose_information.height)\n",
    "#print(pose_information.width)\n",
    "#pose_information.pose_keypoints.show()"
   ]
  },
  {
   "cell_type": "code",
   "execution_count": null,
   "id": "946ebf61",
   "metadata": {},
   "outputs": [],
   "source": [
    "pose_inform"
   ]
  }
 ],
 "metadata": {
  "kernelspec": {
   "display_name": "Python 3 (ipykernel)",
   "language": "python",
   "name": "python3"
  },
  "language_info": {
   "codemirror_mode": {
    "name": "ipython",
    "version": 3
   },
   "file_extension": ".py",
   "mimetype": "text/x-python",
   "name": "python",
   "nbconvert_exporter": "python",
   "pygments_lexer": "ipython3",
   "version": "3.10.12"
  }
 },
 "nbformat": 4,
 "nbformat_minor": 5
}
