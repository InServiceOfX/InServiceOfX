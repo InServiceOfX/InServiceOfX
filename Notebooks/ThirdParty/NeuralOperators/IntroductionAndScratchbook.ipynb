{
 "cells": [
  {
   "cell_type": "markdown",
   "id": "a663ef8a",
   "metadata": {},
   "source": [
    "After we do a `pip install neuraloperator` within our virtual environment, then from\n",
    "https://github.com/neuraloperator/neuraloperator\n",
    "We can do the following:"
   ]
  },
  {
   "cell_type": "code",
   "execution_count": 1,
   "id": "8a82c65c",
   "metadata": {},
   "outputs": [
    {
     "name": "stderr",
     "output_type": "stream",
     "text": [
      "/ThirdParty/neuraloperator/neuralop/models/base_model.py:21: UserWarning: Creating a subclass of BaseModel FNO1d with no name, initializing with FNO1d.\n",
      "  warnings.warn(f'Creating a subclass of BaseModel {cls.__name__} with no name, initializing with {cls.__name__}.')\n",
      "/ThirdParty/neuraloperator/neuralop/models/base_model.py:21: UserWarning: Creating a subclass of BaseModel FNO2d with no name, initializing with FNO2d.\n",
      "  warnings.warn(f'Creating a subclass of BaseModel {cls.__name__} with no name, initializing with {cls.__name__}.')\n",
      "/ThirdParty/neuraloperator/neuralop/models/base_model.py:21: UserWarning: Creating a subclass of BaseModel FNO3d with no name, initializing with FNO3d.\n",
      "  warnings.warn(f'Creating a subclass of BaseModel {cls.__name__} with no name, initializing with {cls.__name__}.')\n",
      "/ThirdParty/neuraloperator/neuralop/models/base_model.py:21: UserWarning: Creating a subclass of BaseModel TFNO with no name, initializing with TFNO.\n",
      "  warnings.warn(f'Creating a subclass of BaseModel {cls.__name__} with no name, initializing with {cls.__name__}.')\n",
      "/ThirdParty/neuraloperator/neuralop/models/base_model.py:21: UserWarning: Creating a subclass of BaseModel TFNO1d with no name, initializing with TFNO1d.\n",
      "  warnings.warn(f'Creating a subclass of BaseModel {cls.__name__} with no name, initializing with {cls.__name__}.')\n",
      "/ThirdParty/neuraloperator/neuralop/models/base_model.py:21: UserWarning: Creating a subclass of BaseModel TFNO2d with no name, initializing with TFNO2d.\n",
      "  warnings.warn(f'Creating a subclass of BaseModel {cls.__name__} with no name, initializing with {cls.__name__}.')\n",
      "/ThirdParty/neuraloperator/neuralop/models/base_model.py:21: UserWarning: Creating a subclass of BaseModel TFNO3d with no name, initializing with TFNO3d.\n",
      "  warnings.warn(f'Creating a subclass of BaseModel {cls.__name__} with no name, initializing with {cls.__name__}.')\n",
      "/ThirdParty/neuraloperator/neuralop/models/base_model.py:21: UserWarning: Creating a subclass of BaseModel SFNO with no name, initializing with SFNO.\n",
      "  warnings.warn(f'Creating a subclass of BaseModel {cls.__name__} with no name, initializing with {cls.__name__}.')\n"
     ]
    }
   ],
   "source": [
    "from neuralop.models import FNO"
   ]
  },
  {
   "cell_type": "code",
   "execution_count": 2,
   "id": "f3886608",
   "metadata": {},
   "outputs": [
    {
     "name": "stdout",
     "output_type": "stream",
     "text": [
      "Keyword argument lifting_channels not specified for model FNO, using default=256.\n",
      "Keyword argument projection_channels not specified for model FNO, using default=256.\n",
      "Keyword argument n_layers not specified for model FNO, using default=4.\n",
      "Keyword argument output_scaling_factor not specified for model FNO, using default=None.\n",
      "Keyword argument max_n_modes not specified for model FNO, using default=None.\n",
      "Keyword argument fno_block_precision not specified for model FNO, using default=full.\n",
      "Keyword argument use_mlp not specified for model FNO, using default=False.\n",
      "Keyword argument mlp_dropout not specified for model FNO, using default=0.\n",
      "Keyword argument mlp_expansion not specified for model FNO, using default=0.5.\n",
      "Keyword argument non_linearity not specified for model FNO, using default=<built-in function gelu>.\n",
      "Keyword argument stabilizer not specified for model FNO, using default=None.\n",
      "Keyword argument norm not specified for model FNO, using default=None.\n",
      "Keyword argument preactivation not specified for model FNO, using default=False.\n",
      "Keyword argument fno_skip not specified for model FNO, using default=linear.\n",
      "Keyword argument mlp_skip not specified for model FNO, using default=soft-gating.\n",
      "Keyword argument separable not specified for model FNO, using default=False.\n",
      "Keyword argument factorization not specified for model FNO, using default=None.\n",
      "Keyword argument rank not specified for model FNO, using default=1.0.\n",
      "Keyword argument joint_factorization not specified for model FNO, using default=False.\n",
      "Keyword argument fixed_rank_modes not specified for model FNO, using default=False.\n",
      "Keyword argument implementation not specified for model FNO, using default=factorized.\n",
      "Keyword argument decomposition_kwargs not specified for model FNO, using default={}.\n",
      "Keyword argument domain_padding not specified for model FNO, using default=None.\n",
      "Keyword argument domain_padding_mode not specified for model FNO, using default=one-sided.\n",
      "Keyword argument fft_norm not specified for model FNO, using default=forward.\n",
      "Keyword argument SpectralConv not specified for model FNO, using default=<class 'neuralop.layers.spectral_convolution.SpectralConv'>.\n"
     ]
    }
   ],
   "source": [
    "operator = FNO(n_modes=(16, 16), hidden_channels=64, in_channels=3, out_channels=1)"
   ]
  },
  {
   "cell_type": "code",
   "execution_count": null,
   "id": "85131b58",
   "metadata": {},
   "outputs": [],
   "source": []
  }
 ],
 "metadata": {
  "kernelspec": {
   "display_name": "Python 3 (ipykernel)",
   "language": "python",
   "name": "python3"
  },
  "language_info": {
   "codemirror_mode": {
    "name": "ipython",
    "version": 3
   },
   "file_extension": ".py",
   "mimetype": "text/x-python",
   "name": "python",
   "nbconvert_exporter": "python",
   "pygments_lexer": "ipython3",
   "version": "3.10.12"
  }
 },
 "nbformat": 4,
 "nbformat_minor": 5
}
