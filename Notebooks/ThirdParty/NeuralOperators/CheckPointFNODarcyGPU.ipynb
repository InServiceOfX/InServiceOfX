{
 "cells": [
  {
   "cell_type": "code",
   "execution_count": null,
   "id": "fb14ef14",
   "metadata": {},
   "outputs": [],
   "source": [
    "# Training a TFNO on Darcy-Flow\n",
    "\n",
    "We use the example found in "
   ]
  }
 ],
 "metadata": {
  "kernelspec": {
   "display_name": "Python 3 (ipykernel)",
   "language": "python",
   "name": "python3"
  },
  "language_info": {
   "codemirror_mode": {
    "name": "ipython",
    "version": 3
   },
   "file_extension": ".py",
   "mimetype": "text/x-python",
   "name": "python",
   "nbconvert_exporter": "python",
   "pygments_lexer": "ipython3",
   "version": "3.10.12"
  }
 },
 "nbformat": 4,
 "nbformat_minor": 5
}
