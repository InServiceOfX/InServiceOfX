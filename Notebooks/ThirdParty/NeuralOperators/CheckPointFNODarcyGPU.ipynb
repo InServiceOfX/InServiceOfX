{
 "cells": [
  {
   "cell_type": "markdown",
   "id": "bb2551b8-e983-4ec4-a843-f010b7af992e",
   "metadata": {},
   "source": [
    "# Training a TFNO on Darcy-Flow\n",
    "\n",
    "We use the example found in [`auto_examples_jupyter.zip`](https://neuraloperator.github.io/neuraloperator/dev/auto_examples/index.html) and so we'll demonstrate how to use the small Darcy-Flow example to train a Tensorized Fourier-Neural Operator."
   ]
  },
  {
   "cell_type": "code",
   "execution_count": 1,
   "id": "456c8037-1401-42bf-8306-d6d82f893679",
   "metadata": {},
   "outputs": [
    {
     "name": "stderr",
     "output_type": "stream",
     "text": [
      "/home/propdev/Prop/neuraloperator/neuralop/models/base_model.py:21: UserWarning: Creating a subclass of BaseModel FNO1d with no name, initializing with FNO1d.\n",
      "  warnings.warn(f'Creating a subclass of BaseModel {cls.__name__} with no name, initializing with {cls.__name__}.')\n",
      "/home/propdev/Prop/neuraloperator/neuralop/models/base_model.py:21: UserWarning: Creating a subclass of BaseModel FNO2d with no name, initializing with FNO2d.\n",
      "  warnings.warn(f'Creating a subclass of BaseModel {cls.__name__} with no name, initializing with {cls.__name__}.')\n",
      "/home/propdev/Prop/neuraloperator/neuralop/models/base_model.py:21: UserWarning: Creating a subclass of BaseModel FNO3d with no name, initializing with FNO3d.\n",
      "  warnings.warn(f'Creating a subclass of BaseModel {cls.__name__} with no name, initializing with {cls.__name__}.')\n",
      "/home/propdev/Prop/neuraloperator/neuralop/models/base_model.py:21: UserWarning: Creating a subclass of BaseModel TFNO with no name, initializing with TFNO.\n",
      "  warnings.warn(f'Creating a subclass of BaseModel {cls.__name__} with no name, initializing with {cls.__name__}.')\n",
      "/home/propdev/Prop/neuraloperator/neuralop/models/base_model.py:21: UserWarning: Creating a subclass of BaseModel TFNO1d with no name, initializing with TFNO1d.\n",
      "  warnings.warn(f'Creating a subclass of BaseModel {cls.__name__} with no name, initializing with {cls.__name__}.')\n",
      "/home/propdev/Prop/neuraloperator/neuralop/models/base_model.py:21: UserWarning: Creating a subclass of BaseModel TFNO2d with no name, initializing with TFNO2d.\n",
      "  warnings.warn(f'Creating a subclass of BaseModel {cls.__name__} with no name, initializing with {cls.__name__}.')\n",
      "/home/propdev/Prop/neuraloperator/neuralop/models/base_model.py:21: UserWarning: Creating a subclass of BaseModel TFNO3d with no name, initializing with TFNO3d.\n",
      "  warnings.warn(f'Creating a subclass of BaseModel {cls.__name__} with no name, initializing with {cls.__name__}.')\n",
      "/home/propdev/Prop/neuraloperator/neuralop/models/base_model.py:21: UserWarning: Creating a subclass of BaseModel SFNO with no name, initializing with SFNO.\n",
      "  warnings.warn(f'Creating a subclass of BaseModel {cls.__name__} with no name, initializing with {cls.__name__}.')\n"
     ]
    }
   ],
   "source": [
    "import torch\n",
    "import matplotlib.pyplot as plt\n",
    "import sys\n",
    "from neuralop.models import TFNO\n",
    "from neuralop import Trainer\n",
    "from neuralop.training import OutputEncoderCallback, CheckpointCallback\n",
    "from neuralop.datasets import load_darcy_flow_small\n",
    "from neuralop.utils import count_model_params\n",
    "from neuralop import LpLoss, H1Loss\n",
    "\n",
    "# From running .to on a model, neuralop.models.fno.TFNO,\n",
    "# RuntimeError: Expected one of cpu, cuda, ipu, xpu, mkldnn, opengl, opencl, ideep, hip, ve, fpga, ort, xla, lazy, vulkan, mps, meta, hpu, mtia, privateuseone device type at start of device string: gpu\n",
    "\n",
    "device = 'cuda'"
   ]
  },
  {
   "cell_type": "code",
   "execution_count": 2,
   "id": "6e5553d0-0c3e-49e0-aca3-5240c71dd0b6",
   "metadata": {},
   "outputs": [
    {
     "name": "stdout",
     "output_type": "stream",
     "text": [
      "UnitGaussianNormalizer init on 1000, reducing over [0, 1, 2, 3], samples of shape [1, 16, 16].\n",
      "   Mean and std of shape torch.Size([1, 1, 1]), eps=1e-05\n",
      "Loading test db at resolution 32 with 50 samples and batch-size=32\n"
     ]
    }
   ],
   "source": [
    "train_loader, test_loaders, output_encoder = load_darcy_flow_small(\n",
    "    n_train=1000, batch_size=32,\n",
    "    test_resolutions=[16, 32], n_tests=[100, 50],\n",
    "    test_batch_sizes=[32, 32])"
   ]
  },
  {
   "cell_type": "code",
   "execution_count": 3,
   "id": "d451ea8e-2d8d-4004-a430-f2b64b2b0d9b",
   "metadata": {},
   "outputs": [
    {
     "name": "stdout",
     "output_type": "stream",
     "text": [
      "<class 'torch.utils.data.dataloader.DataLoader'>\n",
      "<class 'dict'>\n",
      "2\n",
      "dict_keys([16, 32])\n",
      "<class 'neuralop.utils.UnitGaussianNormalizer'>\n"
     ]
    }
   ],
   "source": [
    "# <class 'torch.utils.data.dataloader.DataLoader'>\n",
    "print(type(train_loader))\n",
    "# <class 'dict'>\n",
    "print(type(test_loaders))\n",
    "# 2\n",
    "print(len(test_loaders))\n",
    "# dict_keys([16, 32])\n",
    "print(test_loaders.keys())\n",
    "# <class 'neuralop.utils.UnitGaussianNormalizer'>\n",
    "print(type(output_encoder))"
   ]
  },
  {
   "cell_type": "markdown",
   "id": "ede6786c-0c18-454b-b086-cc24c21045d6",
   "metadata": {},
   "source": [
    "We create a tensorized FNO model"
   ]
  },
  {
   "cell_type": "code",
   "execution_count": 4,
   "id": "a1fae28d-d391-4612-8487-0899b50d03c8",
   "metadata": {},
   "outputs": [
    {
     "name": "stdout",
     "output_type": "stream",
     "text": [
      "Keyword argument in_channels not specified for model TFNO, using default=3.\n",
      "Keyword argument out_channels not specified for model TFNO, using default=1.\n",
      "Keyword argument lifting_channels not specified for model TFNO, using default=256.\n",
      "Keyword argument n_layers not specified for model TFNO, using default=4.\n",
      "Keyword argument output_scaling_factor not specified for model TFNO, using default=None.\n",
      "Keyword argument max_n_modes not specified for model TFNO, using default=None.\n",
      "Keyword argument fno_block_precision not specified for model TFNO, using default=full.\n",
      "Keyword argument use_mlp not specified for model TFNO, using default=False.\n",
      "Keyword argument mlp_dropout not specified for model TFNO, using default=0.\n",
      "Keyword argument mlp_expansion not specified for model TFNO, using default=0.5.\n",
      "Keyword argument non_linearity not specified for model TFNO, using default=<built-in function gelu>.\n",
      "Keyword argument stabilizer not specified for model TFNO, using default=None.\n",
      "Keyword argument norm not specified for model TFNO, using default=None.\n",
      "Keyword argument preactivation not specified for model TFNO, using default=False.\n",
      "Keyword argument fno_skip not specified for model TFNO, using default=linear.\n",
      "Keyword argument mlp_skip not specified for model TFNO, using default=soft-gating.\n",
      "Keyword argument separable not specified for model TFNO, using default=False.\n",
      "Keyword argument joint_factorization not specified for model TFNO, using default=False.\n",
      "Keyword argument fixed_rank_modes not specified for model TFNO, using default=False.\n",
      "Keyword argument implementation not specified for model TFNO, using default=factorized.\n",
      "Keyword argument decomposition_kwargs not specified for model TFNO, using default={}.\n",
      "Keyword argument domain_padding not specified for model TFNO, using default=None.\n",
      "Keyword argument domain_padding_mode not specified for model TFNO, using default=one-sided.\n",
      "Keyword argument fft_norm not specified for model TFNO, using default=forward.\n",
      "Keyword argument SpectralConv not specified for model TFNO, using default=<class 'neuralop.layers.spectral_convolution.SpectralConv'>.\n",
      "model before to type:  <class 'neuralop.models.fno.TFNO'>\n",
      "<class 'neuralop.models.fno.TFNO'>\n",
      "<class 'int'>\n",
      "\n",
      "Our model has 523257 parameters.\n"
     ]
    }
   ],
   "source": [
    "model = TFNO(n_modes=(16, 16), hidden_channels=32, projection_channels=64, factorization='tucker', rank=0.42)\n",
    "print(\"--------------------- model before to type: \", type(model))\n",
    "model = model.to(device)\n",
    "print(\"--------------------- model after to type: \", type(model))\n",
    "\n",
    "n_params = count_model_params(model)\n",
    "print(type(n_params))\n",
    "print(f'\\nOur model has {n_params} parameters.')\n",
    "sys.stdout.flush()"
   ]
  },
  {
   "cell_type": "markdown",
   "id": "6b26b21f-86b1-442b-ab8e-1d72cee1a772",
   "metadata": {},
   "source": [
    "Create the optimizer"
   ]
  },
  {
   "cell_type": "code",
   "execution_count": 6,
   "id": "ba3f03a6-b14d-458b-befe-019b5c71c86a",
   "metadata": {},
   "outputs": [
    {
     "name": "stdout",
     "output_type": "stream",
     "text": [
      "---------------------- type of optimizer <class 'torch.optim.adam.Adam'>\n",
      "---------------------- type of scheduler <class 'torch.optim.lr_scheduler.CosineAnnealingLR'>\n"
     ]
    }
   ],
   "source": [
    "optimizer = torch.optim.Adam(model.parameters(),\n",
    "                             lr=8e-3,\n",
    "                             weight_decay=1e-4)\n",
    "print(\"---------------------- type of optimizer\", type(optimizer))\n",
    "scheduler = torch.optim.lr_scheduler.CosineAnnealingLR(optimizer, T_max=30)\n",
    "print(\"---------------------- type of scheduler\", type(scheduler))"
   ]
  },
  {
   "cell_type": "code",
   "execution_count": null,
   "id": "4bb28b96-c779-4f00-9983-8cf2e1fe0fe8",
   "metadata": {},
   "outputs": [],
   "source": []
  }
 ],
 "metadata": {
  "kernelspec": {
   "display_name": "Python 3 (ipykernel)",
   "language": "python",
   "name": "python3"
  },
  "language_info": {
   "codemirror_mode": {
    "name": "ipython",
    "version": 3
   },
   "file_extension": ".py",
   "mimetype": "text/x-python",
   "name": "python",
   "nbconvert_exporter": "python",
   "pygments_lexer": "ipython3",
   "version": "3.10.12"
  }
 },
 "nbformat": 4,
 "nbformat_minor": 5
}
