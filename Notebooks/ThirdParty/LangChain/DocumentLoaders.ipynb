{
 "cells": [
  {
   "cell_type": "code",
   "execution_count": 1,
   "id": "187b7f87",
   "metadata": {},
   "outputs": [
    {
     "name": "stdout",
     "output_type": "stream",
     "text": [
      "/InServiceOfX\n",
      "Is CoreCode directory in sys.path? False\n",
      "Is notebook directory's ancestor in sys.path? False\n"
     ]
    }
   ],
   "source": [
    "from pathlib import Path\n",
    "import sys\n",
    "\n",
    "# Make this path be the project's \"base\" directory, so we can include modules\n",
    "notebook_directory_ancestor = Path.cwd().resolve().parent.parent.parent\n",
    "print(notebook_directory_ancestor)\n",
    "core_code_directory = notebook_directory_ancestor / \"CoreCode/\"\n",
    "\n",
    "is_core_code_directory_in_sys_path = str(core_code_directory) in sys.path\n",
    "is_notebook_directory_ancestor_in_sys_path = str(notebook_directory_ancestor) in sys.path\n",
    "print(\"Is CoreCode directory in sys.path?\", is_core_code_directory_in_sys_path)\n",
    "print(\"Is notebook directory's ancestor in sys.path?\", is_notebook_directory_ancestor_in_sys_path)"
   ]
  },
  {
   "cell_type": "code",
   "execution_count": 2,
   "id": "865a172f",
   "metadata": {},
   "outputs": [],
   "source": [
    "if not is_core_code_directory_in_sys_path:\n",
    "    sys.path.append(str(core_code_directory))"
   ]
  },
  {
   "cell_type": "code",
   "execution_count": 3,
   "id": "a772b77e",
   "metadata": {},
   "outputs": [],
   "source": [
    "from CoreCode.FileIO.get_filepaths import get_filepaths\n",
    "from CoreCode.FileIO.ProjectSubdirectories import ProjectSubdirectories\n",
    "from CoreCode.Utilities.LoadConfigurationFile import LoadConfigurationFile\n",
    "from CoreCode.Utilities.LoadEnvironmentFile import load_environment_file\n",
    "load_environment_file()"
   ]
  },
  {
   "cell_type": "code",
   "execution_count": 4,
   "id": "5f2c7e82",
   "metadata": {},
   "outputs": [
    {
     "data": {
      "text/plain": [
       "PosixPath('/InServiceOfX/ThirdParty/unit_tests/SampleData')"
      ]
     },
     "execution_count": 4,
     "metadata": {},
     "output_type": "execute_result"
    }
   ],
   "source": [
    "project_subdirs = ProjectSubdirectories()\n",
    "project_subdirs.ThirdParty__unit_tests__SampleData\n",
    "# dir(project_subdirs)"
   ]
  },
  {
   "cell_type": "markdown",
   "id": "e29f6342",
   "metadata": {},
   "source": [
    "# [PDF](https://python.langchain.com/docs/modules/data_connection/document_loaders/pdf/)\n",
    "\n",
    "## [Using PyPDF](https://python.langchain.com/docs/modules/data_connection/document_loaders/pdf/#using-pypdf)"
   ]
  },
  {
   "cell_type": "code",
   "execution_count": 5,
   "id": "5e26216e",
   "metadata": {},
   "outputs": [],
   "source": [
    "from langchain_community.document_loaders import PyPDFLoader"
   ]
  },
  {
   "cell_type": "code",
   "execution_count": 7,
   "id": "61da4c99",
   "metadata": {},
   "outputs": [
    {
     "name": "stdout",
     "output_type": "stream",
     "text": [
      "/InServiceOfX/ThirdParty/unit_tests/SampleData/Documents/PDF\n"
     ]
    }
   ],
   "source": [
    "pdfs_subdir = project_subdirs.ThirdParty__unit_tests__SampleData / \"Documents\" / \"PDF\"\n",
    "print(str(pdfs_subdir))\n",
    "pdf_files = get_filepaths(project_subdirs.ThirdParty__unit_tests__SampleData / \"Documents\" / \"PDF\", \".pdf\")"
   ]
  },
  {
   "cell_type": "markdown",
   "id": "1fe4f1b2",
   "metadata": {},
   "source": [
    "`load_and_split` splits by page numbers."
   ]
  },
  {
   "cell_type": "code",
   "execution_count": 11,
   "id": "55314d65",
   "metadata": {},
   "outputs": [
    {
     "name": "stdout",
     "output_type": "stream",
     "text": [
      "<class 'langchain_community.document_loaders.pdf.PyPDFLoader'>\n",
      "<class 'list'>\n",
      "200\n",
      "<class 'langchain_core.documents.base.Document'>\n",
      "<class 'list'>\n",
      "114\n",
      "<class 'langchain_core.documents.base.Document'>\n"
     ]
    }
   ],
   "source": [
    "loader = PyPDFLoader(str(pdf_files[0]))\n",
    "print(type(loader)) # langchain_community.documnet_loaders.pdf.PyPDFLoader\n",
    "pages = loader.load_and_split()\n",
    "print(type(pages)) # list\n",
    "print(len(pages))\n",
    "print(type(pages[0]))\n",
    "data = loader.load()\n",
    "print(type(data)) # list\n",
    "print(len(data))\n",
    "print(type(data[0]))"
   ]
  },
  {
   "cell_type": "code",
   "execution_count": 13,
   "id": "d72daa13",
   "metadata": {},
   "outputs": [
    {
     "data": {
      "text/plain": [
       "Document(page_content=\"Page 2 of 114  Fileid: … ions/i1040/2023/a/xml/cycle08/source 13:55 - 27-Dec-2023\\nThe type and rule above prints on all proofs including departmental reproduction proofs. MUST be removed before printing.\\nTable of Contents\\nContents Page Contents Page\\nWhat's New ........................ 6\\nFiling Requirements .................. 8\\nDo You Have To File? .............. 8\\nWhen and Where Should You File? ..... 8\\nLine Instructions for Forms 1040 and \\n1040-SR ...................... 12\\nName and Address ............... 12\\nSocial Security Number (SSN) ....... 12\\nFiling Status ................... 13\\nDependents, Qualifying Child for \\nChild Tax Credit, and Credit for \\nOther Dependents .............. 17\\nIncome ....................... 23\\nTotal Income and Adjusted Gross \\nIncome ..................... 31\\nTax and Credits ................. 31\\nPayments ..................... 38\\nRefund ....................... 58\\nAmount You Owe ................ 61Sign Your Return ................ 63\\nAssemble Your Return ............. 64\\n2023 Tax Table ..................... 65\\nGeneral Information ................. 78\\nRefund Information .................. 84\\nInstructions for Schedule 1 ............. 85\\nInstructions for Schedule 2 ............. 97\\nInstructions for Schedule 3 ............ 102\\nTax Topics ....................... 105\\nDisclosure, Privacy Act, and Paperwork \\nReduction Act Notice ............ 107\\nMajor Categories of Federal Income and \\nOutlays for Fiscal Year 2022 ........ 109\\nIndex .......................... 111\\n2\\nDepartment \\nof the \\nTreasury\\nInternal \\nRevenue \\nService\", metadata={'source': '/InServiceOfX/ThirdParty/unit_tests/SampleData/Documents/PDF/i1040gi.pdf', 'page': 1})"
      ]
     },
     "execution_count": 13,
     "metadata": {},
     "output_type": "execute_result"
    }
   ],
   "source": [
    "pages[1]"
   ]
  },
  {
   "cell_type": "code",
   "execution_count": null,
   "id": "c6918c1b",
   "metadata": {},
   "outputs": [],
   "source": []
  }
 ],
 "metadata": {
  "kernelspec": {
   "display_name": "Python 3 (ipykernel)",
   "language": "python",
   "name": "python3"
  },
  "language_info": {
   "codemirror_mode": {
    "name": "ipython",
    "version": 3
   },
   "file_extension": ".py",
   "mimetype": "text/x-python",
   "name": "python",
   "nbconvert_exporter": "python",
   "pygments_lexer": "ipython3",
   "version": "3.10.12"
  }
 },
 "nbformat": 4,
 "nbformat_minor": 5
}
