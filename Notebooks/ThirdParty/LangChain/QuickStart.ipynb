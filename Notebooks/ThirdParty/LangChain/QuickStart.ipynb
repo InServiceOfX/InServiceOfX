{
 "cells": [
  {
   "cell_type": "markdown",
   "id": "f8b84f5d",
   "metadata": {},
   "source": [
    "https://python.langchain.com/docs/get_started/quickstart"
   ]
  },
  {
   "cell_type": "code",
   "execution_count": 1,
   "id": "9e863b5d",
   "metadata": {},
   "outputs": [],
   "source": [
    "# We want to set an environment variable\n",
    "import os"
   ]
  },
  {
   "cell_type": "code",
   "execution_count": null,
   "id": "3c53feca",
   "metadata": {},
   "outputs": [],
   "source": [
    "# Replace 'your_api_key_here' with your actual OpenAI API key\n",
    "os.environ['OPENAI_API_KEY'] = 'your_api_key_here'"
   ]
  }
 ],
 "metadata": {
  "kernelspec": {
   "display_name": "Python 3 (ipykernel)",
   "language": "python",
   "name": "python3"
  },
  "language_info": {
   "codemirror_mode": {
    "name": "ipython",
    "version": 3
   },
   "file_extension": ".py",
   "mimetype": "text/x-python",
   "name": "python",
   "nbconvert_exporter": "python",
   "pygments_lexer": "ipython3",
   "version": "3.10.12"
  }
 },
 "nbformat": 4,
 "nbformat_minor": 5
}
