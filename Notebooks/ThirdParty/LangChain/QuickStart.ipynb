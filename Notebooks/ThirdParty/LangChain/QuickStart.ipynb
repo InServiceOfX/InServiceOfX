{
 "cells": [
  {
   "cell_type": "markdown",
   "id": "05a4a268",
   "metadata": {},
   "source": [
    "### Setup Jupyter notebook\n",
    "Setup Jupyter notebook to use (Python) modules in this project."
   ]
  },
  {
   "cell_type": "code",
   "execution_count": 1,
   "id": "05a26b5a",
   "metadata": {},
   "outputs": [
    {
     "name": "stdout",
     "output_type": "stream",
     "text": [
      "/InServiceOfX\n",
      "Is CoreCode directory in sys.path? False\n",
      "Is notebook directory's ancestor in sys.path? False\n"
     ]
    }
   ],
   "source": [
    "from pathlib import Path\n",
    "import sys\n",
    "\n",
    "# Make this path be the project's \"base\" directory, so we can include modules\n",
    "notebook_directory_ancestor = Path.cwd().resolve().parent.parent.parent\n",
    "print(notebook_directory_ancestor)\n",
    "core_code_directory = notebook_directory_ancestor / \"CoreCode/\"\n",
    "is_core_code_directory_in_sys_path = str(core_code_directory) in sys.path\n",
    "is_notebook_directory_ancestor_in_sys_path = str(notebook_directory_ancestor) in sys.path\n",
    "print(\"Is CoreCode directory in sys.path?\", is_core_code_directory_in_sys_path)\n",
    "print(\"Is notebook directory's ancestor in sys.path?\", is_notebook_directory_ancestor_in_sys_path)"
   ]
  },
  {
   "cell_type": "code",
   "execution_count": null,
   "id": "b57c7772",
   "metadata": {},
   "outputs": [],
   "source": [
    "# Uncomment to see your current sys.path\n",
    "# print(sys.path)"
   ]
  },
  {
   "cell_type": "code",
   "execution_count": 2,
   "id": "cc9fdd3b",
   "metadata": {},
   "outputs": [],
   "source": [
    "if not is_core_code_directory_in_sys_path:\n",
    "    sys.path.append(str(core_code_directory))"
   ]
  },
  {
   "cell_type": "code",
   "execution_count": 3,
   "id": "03feb972",
   "metadata": {},
   "outputs": [],
   "source": [
    "from CoreCode.Utilities.LoadEnvironmentFile import load_environment_file"
   ]
  },
  {
   "cell_type": "markdown",
   "id": "f8b84f5d",
   "metadata": {},
   "source": [
    "https://python.langchain.com/docs/get_started/quickstart"
   ]
  },
  {
   "cell_type": "code",
   "execution_count": 4,
   "id": "3c53feca",
   "metadata": {},
   "outputs": [],
   "source": [
    "# We want to set an environment variable\n",
    "import os\n",
    "\n",
    "# Replace 'your_api_key_here' with your actual OpenAI API key\n",
    "# os.environ['OPENAI_API_KEY'] = 'your_api_key_here'\n",
    "# Instead, use our load_environment_file method.\n",
    "load_environment_file()"
   ]
  },
  {
   "cell_type": "code",
   "execution_count": 6,
   "id": "4eb23080",
   "metadata": {},
   "outputs": [],
   "source": [
    "open_ai_api_key = os.environ.get(\"OPEN_AI_API_KEY\")\n",
    "# Uncomment out to show your key\n",
    "# print(open_ai_api_key)"
   ]
  }
 ],
 "metadata": {
  "kernelspec": {
   "display_name": "Python 3 (ipykernel)",
   "language": "python",
   "name": "python3"
  },
  "language_info": {
   "codemirror_mode": {
    "name": "ipython",
    "version": 3
   },
   "file_extension": ".py",
   "mimetype": "text/x-python",
   "name": "python",
   "nbconvert_exporter": "python",
   "pygments_lexer": "ipython3",
   "version": "3.10.12"
  }
 },
 "nbformat": 4,
 "nbformat_minor": 5
}
