{
 "cells": [
  {
   "cell_type": "markdown",
   "id": "77d5178f",
   "metadata": {},
   "source": [
    "## Installation and Setup"
   ]
  },
  {
   "cell_type": "code",
   "execution_count": 1,
   "id": "adff8d74",
   "metadata": {},
   "outputs": [
    {
     "name": "stdout",
     "output_type": "stream",
     "text": [
      "/InServiceOfX\n",
      "Is CoreCode directory in sys.path? False\n",
      "Is notebook directory's ancestor in sys.path? False\n"
     ]
    }
   ],
   "source": [
    "from pathlib import Path\n",
    "import os, sys\n",
    "\n",
    "# Make this path be the project's \"base\" directory, so we can include modules\n",
    "notebook_directory_ancestor = Path.cwd().resolve().parent.parent.parent\n",
    "print(notebook_directory_ancestor)\n",
    "core_code_directory = notebook_directory_ancestor / \"PythonLibraries\" / \"CoreCode\"\n",
    "\n",
    "is_core_code_directory_in_sys_path = str(core_code_directory) in sys.path\n",
    "is_notebook_directory_ancestor_in_sys_path = str(notebook_directory_ancestor) in sys.path\n",
    "print(\"Is CoreCode directory in sys.path?\", is_core_code_directory_in_sys_path)\n",
    "print(\"Is notebook directory's ancestor in sys.path?\", is_notebook_directory_ancestor_in_sys_path)\n",
    "\n",
    "if not is_core_code_directory_in_sys_path:\n",
    "    sys.path.append(str(core_code_directory))"
   ]
  },
  {
   "cell_type": "code",
   "execution_count": 2,
   "id": "fe8d7638",
   "metadata": {},
   "outputs": [],
   "source": [
    "from corecode.FileIO.get_filepaths import get_filepaths\n",
    "from corecode.Utilities import load_environment_file\n",
    "load_environment_file()\n",
    "from corecode.Utilities import (\n",
    "    DataSubdirectories,)"
   ]
  },
  {
   "cell_type": "code",
   "execution_count": 3,
   "id": "829cde70",
   "metadata": {},
   "outputs": [],
   "source": [
    "import nest_asyncio\n",
    "\n",
    "nest_asyncio.apply()"
   ]
  },
  {
   "cell_type": "markdown",
   "id": "a290a336",
   "metadata": {},
   "source": [
    "### Setup LLM using Groq "
   ]
  },
  {
   "cell_type": "code",
   "execution_count": 4,
   "id": "766824cc",
   "metadata": {},
   "outputs": [],
   "source": [
    "from llama_index.llms.groq import Groq"
   ]
  },
  {
   "cell_type": "code",
   "execution_count": 10,
   "id": "e6096044",
   "metadata": {},
   "outputs": [],
   "source": [
    "llm = Groq(\n",
    "    api_key=os.environ[\"GROQ_CLOUD_API_KEY\"],\n",
    "    model=\"llama3-8b-8192\")\n",
    "llm_70b = Groq(\n",
    "    api_key=os.environ[\"GROQ_CLOUD_API_KEY\"],\n",
    "    model=\"llama3-70b-8192\")"
   ]
  },
  {
   "cell_type": "markdown",
   "id": "76b78400",
   "metadata": {},
   "source": [
    "### Setup Embedding Model"
   ]
  },
  {
   "cell_type": "code",
   "execution_count": 6,
   "id": "e5ffd8f9",
   "metadata": {},
   "outputs": [
    {
     "name": "stderr",
     "output_type": "stream",
     "text": [
      "/usr/local/lib/python3.10/dist-packages/huggingface_hub/file_download.py:1132: FutureWarning: `resume_download` is deprecated and will be removed in version 1.0.0. Downloads always resume when possible. If you want to force a new download, use `force_download=True`.\n",
      "  warnings.warn(\n",
      "/usr/local/lib/python3.10/dist-packages/huggingface_hub/file_download.py:1132: FutureWarning: `resume_download` is deprecated and will be removed in version 1.0.0. Downloads always resume when possible. If you want to force a new download, use `force_download=True`.\n",
      "  warnings.warn(\n"
     ]
    }
   ],
   "source": [
    "from llama_index.embeddings.huggingface import HuggingFaceEmbedding\n",
    "\n",
    "embed_model = HuggingFaceEmbedding(model_name=\"BAAI/bge-small-en-v1.5\")"
   ]
  },
  {
   "cell_type": "code",
   "execution_count": 7,
   "id": "0a7c9edb",
   "metadata": {},
   "outputs": [
    {
     "name": "stdout",
     "output_type": "stream",
     "text": [
      "<class 'llama_index.embeddings.huggingface.base.HuggingFaceEmbedding'>\n",
      "<class 'llama_index.llms.groq.base.Groq'>\n",
      "<class 'llama_index.llms.groq.base.Groq'>\n"
     ]
    }
   ],
   "source": [
    "print(type(embed_model))\n",
    "print(type(llm))\n",
    "print(type(llm_70b))\n",
    "\n",
    "# I wanted to try loading another model I can find on HuggingFace\n",
    "embed_model_allmini = HuggingFaceEmbedding(model_name=\"sentence-transformers/all-MiniLM-L6-v2\")"
   ]
  },
  {
   "cell_type": "markdown",
   "id": "304cae21",
   "metadata": {},
   "source": [
    "### Define Global Settings Configuration\n",
    "\n",
    "In LlamaIndex, you can define global settings so you don't have to pass the LLM / embedding model objects everywhere."
   ]
  },
  {
   "cell_type": "code",
   "execution_count": 11,
   "id": "67757d55",
   "metadata": {},
   "outputs": [
    {
     "name": "stdout",
     "output_type": "stream",
     "text": [
      "<class 'llama_index.core.settings._Settings'>\n",
      "<class 'llama_index.llms.groq.base.Groq'>\n",
      "<class 'llama_index.embeddings.huggingface.base.HuggingFaceEmbedding'>\n"
     ]
    }
   ],
   "source": [
    "from llama_index.core import Settings\n",
    "\n",
    "Settings.llm = llm\n",
    "Settings.embed_model = embed_model\n",
    "print(type(Settings))\n",
    "print(type(Settings.llm))\n",
    "print(type(Settings.embed_model))"
   ]
  },
  {
   "cell_type": "markdown",
   "id": "86b8a4f3",
   "metadata": {},
   "source": [
    "### Load Data\n",
    "\n",
    "We load data using LlamaParse by default, but you can also choose to opt for our free pypdf reader (in SimpleDirectoryReader by default) if you don't have an account."
   ]
  },
  {
   "cell_type": "code",
   "execution_count": 9,
   "id": "c2fe4457",
   "metadata": {},
   "outputs": [
    {
     "name": "stdout",
     "output_type": "stream",
     "text": [
      "True\n",
      "True\n",
      "True\n",
      "Started parsing the file under job_id 19b800c5-13bb-4ee0-9a7a-d0ccff010403\n",
      "Started parsing the file under job_id 540f148a-26f5-4a9d-acc6-faf9d8d8f4fb\n",
      "Started parsing the file under job_id 8f99c524-b0c7-45c1-bf23-c49b532b1934\n"
     ]
    }
   ],
   "source": [
    "from llama_parse import LlamaParse\n",
    "\n",
    "data_sub_dirs = DataSubdirectories()\n",
    "\n",
    "pdf_path_1 = data_sub_dirs.PublicFinances / \"Taxes\" / \"2023\" / \"i1040gi.pdf\"\n",
    "pdf_path_2 = data_sub_dirs.PublicFinances / \"Taxes\" / \"2023\" / \"i1040sc.pdf\"\n",
    "pdf_path_3 = data_sub_dirs.PublicFinances / \"Taxes\" / \"2023\" / \"i1040tt.pdf\"\n",
    "print(pdf_path_1.exists())\n",
    "print(pdf_path_2.exists())\n",
    "print(pdf_path_3.exists())\n",
    "doc_1040_general_instructions = LlamaParse(\n",
    "    api_key=os.environ[\"LLAMA_CLOUD_API_KEY\"],\n",
    "    result_type=\"text\").load_data(pdf_path_1)\n",
    "doc_1040_schedule_c = LlamaParse(\n",
    "    api_key=os.environ[\"LLAMA_CLOUD_API_KEY\"],\n",
    "    result_type=\"text\").load_data(pdf_path_2)\n",
    "doc_1040_tax_tables = LlamaParse(\n",
    "    api_key=os.environ[\"LLAMA_CLOUD_API_KEY\"],\n",
    "    result_type=\"text\").load_data(pdf_path_3)"
   ]
  },
  {
   "cell_type": "markdown",
   "id": "43b20fcd",
   "metadata": {},
   "source": [
    "## 1. Basic Completion and Chat \n",
    "\n",
    "### Call complete with a prompt"
   ]
  },
  {
   "cell_type": "code",
   "execution_count": 13,
   "id": "8ed54889",
   "metadata": {},
   "outputs": [
    {
     "name": "stdout",
     "output_type": "stream",
     "text": [
      "<class 'llama_index.core.base.llms.types.CompletionResponse'>\n"
     ]
    }
   ],
   "source": [
    "response = llm.complete(\"Give me a summary of how to fill out a Schedule C and what things I can expense as business and count as an expense\")\n",
    "print(type(response))"
   ]
  },
  {
   "cell_type": "code",
   "execution_count": 14,
   "id": "92cb6b11",
   "metadata": {},
   "outputs": [
    {
     "name": "stdout",
     "output_type": "stream",
     "text": [
      "The Schedule C (Form 1040) is a tax form used to report the income and expenses of a sole proprietorship or single-member limited liability company (LLC). Here's a summary of how to fill it out and what expenses you can deduct as a business expense:\n",
      "\n",
      "**Step 1: Gather necessary documents**\n",
      "\n",
      "* Business income statements (e.g., invoices, receipts, bank statements)\n",
      "* Business expense records (e.g., receipts, invoices, cancelled checks)\n",
      "* Business-related documents (e.g., contracts, agreements, licenses)\n",
      "\n",
      "**Step 2: Complete the header information**\n",
      "\n",
      "* Enter your name, address, and Social Security number or Employer Identification Number (EIN)\n",
      "* Check the box indicating you're a sole proprietor or single-member LLC\n",
      "\n",
      "**Step 3: Report business income**\n",
      "\n",
      "* List all business income on Line 1, including:\n",
      "\t+ Sales revenue\n",
      "\t+ Services rendered\n",
      "\t+ Interest income\n",
      "\t+ Dividend income\n",
      "\t+ Other income (e.g., rent, royalties)\n",
      "\n",
      "**Step 4: Report business expenses**\n",
      "\n",
      "* List all business expenses on Schedule C, Part I, including:\n",
      "\t+ Office expenses (e.g., supplies, equipment, rent)\n",
      "\t+ Travel expenses (e.g., transportation, meals, lodging)\n",
      "\t+ Advertising and marketing expenses\n",
      "\t+ Insurance premiums (e.g., liability, business interruption)\n",
      "\t+ Depreciation and amortization (e.g., equipment, software, intellectual property)\n",
      "\t+ Interest expenses (e.g., loans, credit cards)\n",
      "\t+ Utilities and maintenance expenses (e.g., electricity, water, repairs)\n",
      "\t+ Professional fees (e.g., accounting, legal, consulting)\n",
      "\t+ Miscellaneous expenses (e.g., subscriptions, memberships, donations)\n",
      "\n",
      "**What expenses can you deduct as a business expense?**\n",
      "\n",
      "* Generally, you can deduct expenses that are:\n",
      "\t+ Directly related to your business (e.g., supplies, equipment, rent)\n",
      "\t+ Necessary for your business (e.g., insurance, utilities, maintenance)\n",
      "\t+ Reasonable and not excessive (e.g., no lavish expenses)\n",
      "\t+ Not personal expenses (e.g., no personal entertainment, travel, or gifts)\n",
      "\n",
      "Some specific examples of deductible expenses include:\n",
      "\n",
      "* Office supplies (e.g., paper, pens, toner)\n",
      "* Computer equipment and software\n",
      "* Internet and phone services\n",
      "* Travel expenses (e.g., transportation, meals, lodging)\n",
      "* Advertising and marketing expenses (e.g., print ads, online ads, promotional materials)\n",
      "* Insurance premiums (e.g., liability, business interruption)\n",
      "* Depreciation and amortization (e.g., equipment, software, intellectual property)\n",
      "* Interest expenses (e.g., loans, credit cards)\n",
      "* Utilities and maintenance expenses (e.g., electricity, water, repairs)\n",
      "* Professional fees (e.g., accounting, legal, consulting)\n",
      "* Miscellaneous expenses (e.g., subscriptions, memberships, donations)\n",
      "\n",
      "**Step 5: Calculate your net profit or loss**\n",
      "\n",
      "* Subtract your total business expenses from your total business income to calculate your net profit or loss\n",
      "* If your net profit is positive, you'll report it on your personal tax return (Form 1040)\n",
      "* If your net loss is negative, you can deduct it on your personal tax return (Form 1040) as a miscellaneous itemized deduction\n",
      "\n",
      "**Step 6: Complete the signature and date**\n",
      "\n",
      "* Sign and date the Schedule C\n",
      "\n",
      "Remember to keep accurate and detailed records of your business income and expenses throughout the year to make tax preparation easier and reduce the risk of audit. It's also a good idea to consult with a tax professional or accountant if you're unsure about any aspect of the Schedule C.\n"
     ]
    }
   ],
   "source": [
    "print(response)"
   ]
  },
  {
   "cell_type": "code",
   "execution_count": 16,
   "id": "c27a00aa",
   "metadata": {},
   "outputs": [
    {
     "name": "stdout",
     "output_type": "stream",
     "text": [
      "<class 'generator'>\n",
      "As a hardware-level GPU software engineer turned entrepreneur, it's exciting to explore the possibilities of expensing business expenses to fund your personal research and development, as well as your lifestyle. Here's a breakdown of what you can and can't expense:\n",
      "\n",
      "**Expensible items:**\n",
      "\n",
      "1. **Office expenses:** Rent, utilities, internet, and other miscellaneous expenses related to your home office or a dedicated workspace.\n",
      "2. **Software and tools:** Licenses, subscriptions, and tools necessary for your research and development, such as:\n",
      "\t* Development environments (e.g., IDEs, compilers)\n",
      "\t* Version control systems (e.g., Git)\n",
      "\t* Debugging and profiling tools\n",
      "\t* Research papers and academic journals\n",
      "3. **Travel and education:** Expenses related to attending conferences, workshops, and online courses to stay updated on the latest developments in your field.\n",
      "4. **Equipment and hardware:** Expenses related to purchasing or upgrading your personal computer, peripherals, and other equipment necessary for your work.\n",
      "5. **Insurance and taxes:** Business insurance, taxes, and other regulatory fees.\n",
      "\n",
      "**Non-expensible items:**\n",
      "\n",
      "1. **Personal expenses:** Expenses that are not directly related to your business, such as:\n",
      "\t* Food, entertainment, and personal travel\n",
      "\t* Clothing and accessories\n",
      "\t* Hobbies and leisure activities\n",
      "2. **Depreciation:** While you can expense the cost of a new computer or equipment, you cannot depreciate the value of your existing hardware. Depreciation is typically used for assets with a longer lifespan, such as real estate or equipment with a significant value.\n",
      "3. **Research and development expenses:** While you can expense software and tools related to your research, you cannot expense the research itself. Any research expenses, such as papers, journals, or online courses, should be expensed as office expenses.\n",
      "\n",
      "**GPU depreciation:** As a GPU software engineer, you may be wondering if you can expense the depreciation of your GPU. Unfortunately, the IRS does not allow depreciation on personal computers or peripherals, including GPUs. However, you can expense the cost of a new GPU or upgrade if it's necessary for your business.\n",
      "\n",
      "**Tax implications:** As a business owner, it's essential to keep accurate records of your expenses to ensure compliance with tax regulations. Consult with a tax professional or accountant to ensure you're meeting your tax obligations and taking advantage of available deductions.\n",
      "\n",
      "Remember to consult with a tax professional or accountant to ensure you're meeting your tax obligations and taking advantage of available deductions.<class 'llama_index.core.base.llms.types.CompletionResponse'>\n"
     ]
    }
   ],
   "source": [
    "stream_response = llm.stream_complete(\n",
    "    \"\"\" You're originally a hardware level, GPU software engineer, who now is trying to start a business that \n",
    "    would help fund his personal research and development and lifestyle. What can he expense in his business?\n",
    "    Can he expense GPU depreciation? \"\"\"\n",
    ")\n",
    "\n",
    "print(type(stream_response))\n",
    "for t in stream_response:\n",
    "    print(t.delta, end=\"\")\n",
    "print(type(t))"
   ]
  },
  {
   "cell_type": "markdown",
   "id": "0a409b1d",
   "metadata": {},
   "source": [
    "### Call chat with a list of messages"
   ]
  },
  {
   "cell_type": "code",
   "execution_count": null,
   "id": "9da8c185",
   "metadata": {},
   "outputs": [],
   "source": [
    "from llama_index.core.llms import ChatMessage\n",
    "\n",
    "messages = [\n",
    "    ChatMessage(\n",
    "        role=\"system\", content),\n",
    "    \n",
    "]"
   ]
  }
 ],
 "metadata": {
  "kernelspec": {
   "display_name": "Python 3 (ipykernel)",
   "language": "python",
   "name": "python3"
  },
  "language_info": {
   "codemirror_mode": {
    "name": "ipython",
    "version": 3
   },
   "file_extension": ".py",
   "mimetype": "text/x-python",
   "name": "python",
   "nbconvert_exporter": "python",
   "pygments_lexer": "ipython3",
   "version": "3.10.12"
  }
 },
 "nbformat": 4,
 "nbformat_minor": 5
}
