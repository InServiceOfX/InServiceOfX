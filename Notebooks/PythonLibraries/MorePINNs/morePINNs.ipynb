{
 "cells": [
  {
   "cell_type": "markdown",
   "id": "242c2b60",
   "metadata": {},
   "source": [
    "From https://github.com/rezaakb/pinns-torch/blob/main/tutorials/0-Schrodinger.ipynb"
   ]
  },
  {
   "cell_type": "code",
   "execution_count": 1,
   "id": "2fde0cc6",
   "metadata": {},
   "outputs": [],
   "source": [
    "from typing import Dict\n",
    "import lightning.pytorch as pl\n",
    "import numpy as np\n",
    "import pinnstorch\n",
    "import torch"
   ]
  },
  {
   "cell_type": "code",
   "execution_count": 2,
   "id": "19a83065",
   "metadata": {},
   "outputs": [],
   "source": [
    "def read_data(root_path):\n",
    "    data = pinnstorch.utils.load_data(root_path, \"NLS.mat\")\n",
    "    exact = data[\"uu\"]\n",
    "    exact_u = np.real(exact)\n",
    "    exact_v = np.imag(exact)\n",
    "    exact_h = np.sqrt(exact_u**2 + exact_v**2)\n",
    "    return {\"u\": exact_u, \"v\": exact_v, \"h\": exact_h}"
   ]
  },
  {
   "cell_type": "code",
   "execution_count": 3,
   "id": "db037aae",
   "metadata": {},
   "outputs": [],
   "source": [
    "time_domain = pinnstorch.data.TimeDomain(t_interval=[0, 1.57079633], t_points = 201)"
   ]
  },
  {
   "cell_type": "code",
   "execution_count": 4,
   "id": "c2c25f43",
   "metadata": {},
   "outputs": [
    {
     "name": "stdout",
     "output_type": "stream",
     "text": [
      "<class 'pinnstorch.data.domains.time.TimeDomain'>\n",
      "<class 'list'>\n",
      "[0, 1.57079633]\n"
     ]
    }
   ],
   "source": [
    "# pinnstorch.data.domains.time.TimeDomain\n",
    "print(type(time_domain))\n",
    "# list\n",
    "print(type(time_domain.time_interval))\n",
    "print(time_domain.time_interval)"
   ]
  },
  {
   "cell_type": "code",
   "execution_count": 5,
   "id": "5374a688",
   "metadata": {},
   "outputs": [],
   "source": [
    "spatial_domain = pinnstorch.data.Interval(x_interval= [-5, 4.9609375], shape = [256, 1])"
   ]
  },
  {
   "cell_type": "code",
   "execution_count": 6,
   "id": "85c32f2d",
   "metadata": {},
   "outputs": [],
   "source": [
    "mesh = pinnstorch.data.Mesh(root_dir='./sample_data',\n",
    "                           read_data_fn=read_data,\n",
    "                           spatial_domain=spatial_domain,\n",
    "                           time_domain=time_domain)"
   ]
  },
  {
   "cell_type": "code",
   "execution_count": 7,
   "id": "c2274754",
   "metadata": {},
   "outputs": [],
   "source": [
    "N0 = 50\n",
    "in_c = pinnstorch.data.InitialCondition(mesh = mesh,\n",
    "                                       num_sample=N0,\n",
    "                                       solution=['u','v'])"
   ]
  },
  {
   "cell_type": "code",
   "execution_count": 8,
   "id": "e620ca79",
   "metadata": {},
   "outputs": [],
   "source": [
    "def initial_fun(x):\n",
    "    return {'u': 2*1/np.cosh(x), 'v': np.zeros_like(x)}\n",
    "in_c = pinnstorch.data.InitialCondition(mesh=mesh,\n",
    "                                       num_sample=N0,\n",
    "                                       initial_fun=initial_fun,\n",
    "                                       solution=['u','v'])"
   ]
  },
  {
   "cell_type": "code",
   "execution_count": 9,
   "id": "c604eb26",
   "metadata": {},
   "outputs": [],
   "source": [
    "net = pinnstorch.models.FCN(layers = [2, 100, 100, 100, 100, 2],\n",
    "                            output_names = ['u', 'v'],\n",
    "                            lb=mesh.lb,\n",
    "                            ub=mesh.ub)"
   ]
  },
  {
   "cell_type": "code",
   "execution_count": 10,
   "id": "4d5a4664",
   "metadata": {},
   "outputs": [],
   "source": [
    "def output_fn(outputs: Dict[str, torch.Tensor],\n",
    "              x: torch.Tensor,\n",
    "              t: torch.Tensor):\n",
    "    \"\"\"Define `output_fn` function that will be applied to outputs of net.\"\"\"\n",
    "\n",
    "    outputs[\"h\"] = torch.sqrt(outputs[\"u\"] ** 2 + outputs[\"v\"] ** 2)\n",
    "\n",
    "    return outputs"
   ]
  },
  {
   "cell_type": "code",
   "execution_count": 11,
   "id": "94915deb",
   "metadata": {},
   "outputs": [],
   "source": [
    "def pde_fn(outputs: Dict[str, torch.Tensor],\n",
    "           x: torch.Tensor,\n",
    "           t: torch.Tensor):   \n",
    "    \"\"\"Define the partial differential equations (PDEs).\"\"\"\n",
    "    u_x, u_t = pinnstorch.utils.gradient(outputs[\"u\"], [x, t])\n",
    "    v_x, v_t = pinnstorch.utils.gradient(outputs[\"v\"], [x, t])\n",
    "\n",
    "    u_xx = pinnstorch.utils.gradient(u_x, x)[0]\n",
    "    v_xx = pinnstorch.utils.gradient(v_x, x)[0]\n",
    "\n",
    "    outputs[\"f_u\"] = u_t + 0.5 * v_xx + (outputs[\"u\"] ** 2 + outputs[\"v\"] ** 2) * outputs[\"v\"]\n",
    "    outputs[\"f_v\"] = v_t - 0.5 * u_xx - (outputs[\"u\"] ** 2 + outputs[\"v\"] ** 2) * outputs[\"u\"]\n",
    "\n",
    "    return outputs"
   ]
  },
  {
   "cell_type": "code",
   "execution_count": 12,
   "id": "77fe4adb",
   "metadata": {},
   "outputs": [],
   "source": [
    "N_f = 20000\n",
    "me_s = pinnstorch.data.MeshSampler(mesh = mesh,\n",
    "                                   num_sample = N_f,\n",
    "                                   collection_points = ['f_v', 'f_u'])\n",
    "in_c = pinnstorch.data.InitialCondition(mesh = mesh,\n",
    "                                        num_sample = N0,\n",
    "                                        solution = ['u', 'v'])\n",
    "N_b = 50\n",
    "pe_b = pinnstorch.data.PeriodicBoundaryCondition(mesh = mesh,\n",
    "                                                 num_sample = N_b,\n",
    "                                                 derivative_order = 1,\n",
    "                                                 solution = ['u', 'v'])\n",
    "\n",
    "val_s = pinnstorch.data.MeshSampler(mesh = mesh,\n",
    "                                    solution = ['u', 'v', 'h'])\n",
    "\n",
    "\n",
    "train_datasets = [me_s, in_c, pe_b]\n",
    "val_dataset = val_s\n",
    "datamodule = pinnstorch.data.PINNDataModule(train_datasets = [me_s, in_c, pe_b],\n",
    "                                            val_dataset = val_dataset,\n",
    "                                            pred_dataset = val_s)\n"
   ]
  },
  {
   "cell_type": "code",
   "execution_count": 13,
   "id": "c82b5036",
   "metadata": {},
   "outputs": [],
   "source": [
    "model = pinnstorch.models.PINNModule(net = net,\n",
    "                                     pde_fn = pde_fn,\n",
    "                                     output_fn = output_fn,\n",
    "                                     loss_fn = 'mse')"
   ]
  },
  {
   "cell_type": "code",
   "execution_count": 14,
   "id": "c6bfaf70",
   "metadata": {},
   "outputs": [
    {
     "name": "stderr",
     "output_type": "stream",
     "text": [
      "GPU available: True (cuda), used: True\n",
      "TPU available: False, using: 0 TPU cores\n",
      "HPU available: False, using: 0 HPUs\n"
     ]
    }
   ],
   "source": [
    "trainer = pl.Trainer(accelerator='gpu', devices=1)"
   ]
  },
  {
   "cell_type": "code",
   "execution_count": 15,
   "id": "a2ebcd3f",
   "metadata": {},
   "outputs": [],
   "source": [
    "trainer.fit(model=model, datamodule=datamodule)"
   ]
  },
  {
   "cell_type": "code",
   "execution_count": 16,
   "id": "923eb83f",
   "metadata": {},
   "outputs": [],
   "source": [
    "trainer.validate(model=model, datamodule=datamodule)"
   ]
  },
  {
   "cell_type": "code",
   "execution_count": 17,
   "id": "418f622f",
   "metadata": {},
   "outputs": [],
   "source": [
    "preds_list = trainer.predict(model=model, datamodule=datamodule)\n",
    "preds_dict = pinnstorch.utils.fix_predictions(preds_list)"
   ]
  },
  {
   "cell_type": "code",
   "execution_count": 18,
   "id": "88b0eff5",
   "metadata": {},
   "outputs": [],
   "source": [
    "pinnstorch.utils.plot_schrodinger(mesh=mesh,\n",
    "                                  preds=preds_dict,\n",
    "                                  train_datasets=train_datasets,\n",
    "                                  val_dataset=val_dataset,\n",
    "                                  file_name='out')"
   ]
  },
  {
   "cell_type": "code",
   "execution_count": null,
   "id": "7587c30e",
   "metadata": {},
   "outputs": [],
   "source": []
  }
 ],
 "metadata": {
  "kernelspec": {
   "display_name": "Python 3 (ipykernel)",
   "language": "python",
   "name": "python3"
  },
  "language_info": {
   "codemirror_mode": {
    "name": "ipython",
    "version": 3
   },
   "file_extension": ".py",
   "mimetype": "text/x-python",
   "name": "python",
   "nbconvert_exporter": "python",
   "pygments_lexer": "ipython3",
   "version": "3.10.12"
  }
 },
 "nbformat": 4,
 "nbformat_minor": 5
}
