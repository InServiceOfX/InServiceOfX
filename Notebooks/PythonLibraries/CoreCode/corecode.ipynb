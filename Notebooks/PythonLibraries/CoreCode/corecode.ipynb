{
 "cells": [
  {
   "cell_type": "code",
   "execution_count": 1,
   "id": "6220d9cd",
   "metadata": {},
   "outputs": [
    {
     "name": "stdout",
     "output_type": "stream",
     "text": [
      "/InServiceOfX\n",
      "Is CoreCode directory in sys.path? False\n",
      "Is notebook directory's ancestor in sys.path? False\n"
     ]
    }
   ],
   "source": [
    "from pathlib import Path\n",
    "import sys\n",
    "\n",
    "# Make this path be the project's \"base\" directory, so we can include modules\n",
    "notebook_directory_ancestor = Path.cwd().resolve().parent.parent.parent\n",
    "print(notebook_directory_ancestor)\n",
    "core_code_directory = notebook_directory_ancestor / \"PythonLibraries\" / \"CoreCode\"\n",
    "\n",
    "is_core_code_directory_in_sys_path = str(core_code_directory) in sys.path\n",
    "is_notebook_directory_ancestor_in_sys_path = str(notebook_directory_ancestor) in sys.path\n",
    "print(\"Is CoreCode directory in sys.path?\", is_core_code_directory_in_sys_path)\n",
    "print(\"Is notebook directory's ancestor in sys.path?\", is_notebook_directory_ancestor_in_sys_path)"
   ]
  },
  {
   "cell_type": "code",
   "execution_count": 3,
   "id": "a76f23e9",
   "metadata": {},
   "outputs": [],
   "source": [
    "#print(sys.path)"
   ]
  },
  {
   "cell_type": "code",
   "execution_count": 2,
   "id": "b7d2d9df",
   "metadata": {},
   "outputs": [],
   "source": [
    "if not is_core_code_directory_in_sys_path:\n",
    "    sys.path.append(str(core_code_directory))"
   ]
  },
  {
   "cell_type": "code",
   "execution_count": 3,
   "id": "2d2423f9",
   "metadata": {},
   "outputs": [],
   "source": [
    "from corecode.FileIO import (\n",
    "    get_default_path_to_config_file,\n",
    "    get_default_path_to_env_file,\n",
    "    get_project_directory_path,\n",
    "    get_project_directory_path_recursive)"
   ]
  },
  {
   "cell_type": "code",
   "execution_count": 4,
   "id": "9ceb2437",
   "metadata": {},
   "outputs": [
    {
     "data": {
      "text/plain": [
       "PosixPath('/InServiceOfX')"
      ]
     },
     "execution_count": 4,
     "metadata": {},
     "output_type": "execute_result"
    }
   ],
   "source": [
    "get_project_directory_path()"
   ]
  },
  {
   "cell_type": "code",
   "execution_count": 5,
   "id": "e23f41ff",
   "metadata": {},
   "outputs": [
    {
     "data": {
      "text/plain": [
       "PosixPath('/InServiceOfX')"
      ]
     },
     "execution_count": 5,
     "metadata": {},
     "output_type": "execute_result"
    }
   ],
   "source": [
    "get_project_directory_path_recursive()"
   ]
  },
  {
   "cell_type": "code",
   "execution_count": 6,
   "id": "d13294ef",
   "metadata": {},
   "outputs": [],
   "source": [
    "from corecode.Utilities import (\n",
    "    DataSubdirectories,\n",
    "    LoadConfigurationFile)"
   ]
  },
  {
   "cell_type": "code",
   "execution_count": 7,
   "id": "4406fb89",
   "metadata": {},
   "outputs": [
    {
     "data": {
      "text/plain": [
       "PosixPath('/Data/Models')"
      ]
     },
     "execution_count": 7,
     "metadata": {},
     "output_type": "execute_result"
    }
   ],
   "source": [
    "data_subdirs = DataSubdirectories()\n",
    "data_subdirs.Models"
   ]
  },
  {
   "cell_type": "code",
   "execution_count": 8,
   "id": "54d9068e",
   "metadata": {},
   "outputs": [
    {
     "name": "stdout",
     "output_type": "stream",
     "text": [
      "{'BASE_DATA_PATH': PosixPath('/Data')}\n"
     ]
    }
   ],
   "source": [
    "configuration = LoadConfigurationFile.load_configuration_file()\n",
    "print(configuration)"
   ]
  },
  {
   "cell_type": "code",
   "execution_count": 12,
   "id": "7fe57de9",
   "metadata": {},
   "outputs": [
    {
     "data": {
      "text/plain": [
       "['__class__',\n",
       " '__delattr__',\n",
       " '__dict__',\n",
       " '__dir__',\n",
       " '__doc__',\n",
       " '__eq__',\n",
       " '__format__',\n",
       " '__ge__',\n",
       " '__getattribute__',\n",
       " '__gt__',\n",
       " '__hash__',\n",
       " '__init__',\n",
       " '__init_subclass__',\n",
       " '__le__',\n",
       " '__lt__',\n",
       " '__module__',\n",
       " '__ne__',\n",
       " '__new__',\n",
       " '__reduce__',\n",
       " '__reduce_ex__',\n",
       " '__repr__',\n",
       " '__setattr__',\n",
       " '__sizeof__',\n",
       " '__str__',\n",
       " '__subclasshook__',\n",
       " '__weakref__',\n",
       " '_parse_configuration_file',\n",
       " 'key_parser_map',\n",
       " 'load_configuration_file']"
      ]
     },
     "execution_count": 12,
     "metadata": {},
     "output_type": "execute_result"
    }
   ],
   "source": [
    "dir(LoadConfigurationFile)"
   ]
  },
  {
   "cell_type": "code",
   "execution_count": null,
   "id": "22b97ee8",
   "metadata": {},
   "outputs": [],
   "source": []
  },
  {
   "cell_type": "code",
   "execution_count": null,
   "id": "bc52e857",
   "metadata": {},
   "outputs": [],
   "source": []
  }
 ],
 "metadata": {
  "kernelspec": {
   "display_name": "Python 3 (ipykernel)",
   "language": "python",
   "name": "python3"
  },
  "language_info": {
   "codemirror_mode": {
    "name": "ipython",
    "version": 3
   },
   "file_extension": ".py",
   "mimetype": "text/x-python",
   "name": "python",
   "nbconvert_exporter": "python",
   "pygments_lexer": "ipython3",
   "version": "3.10.12"
  }
 },
 "nbformat": 4,
 "nbformat_minor": 5
}
