{
 "cells": [
  {
   "cell_type": "markdown",
   "id": "8a936e0c-66ad-425e-96e9-2de9ba46b6f5",
   "metadata": {},
   "source": [
    "https://github.com/AssemblyAI-Examples/Machine-Learning-From-Scratch/blob/main/01%20KNN/train.py"
   ]
  },
  {
   "cell_type": "code",
   "execution_count": 1,
   "id": "2bac0c31-3c28-4ee3-8d73-aa1cbfd5d2aa",
   "metadata": {},
   "outputs": [],
   "source": [
    "import numpy as np\n",
    "from sklearn import datasets\n",
    "from sklearn.model_selection import train_test_split\n",
    "import matplotlib.pyplot as plt\n",
    "from matplotlib.colors import ListedColormap"
   ]
  },
  {
   "cell_type": "code",
   "execution_count": 2,
   "id": "9f71b46e-772c-42d0-b07a-f5d2ea4ee272",
   "metadata": {},
   "outputs": [
    {
     "name": "stdout",
     "output_type": "stream",
     "text": [
      "<class 'matplotlib.colors.ListedColormap'>\n"
     ]
    }
   ],
   "source": [
    "cmap = ListedColormap(['#FF0000', '#00FF00', '#0000FF'])\n",
    "print(type(cmap))"
   ]
  },
  {
   "cell_type": "code",
   "execution_count": 3,
   "id": "90ec104e-14f9-4fdb-8f6d-081bb52e9b04",
   "metadata": {},
   "outputs": [
    {
     "name": "stdout",
     "output_type": "stream",
     "text": [
      "<class 'sklearn.utils._bunch.Bunch'>\n",
      "<class 'numpy.ndarray'>\n",
      "<class 'numpy.ndarray'>\n",
      "(150, 4)\n",
      "(150,)\n",
      "600\n",
      "150\n",
      "float64 int64\n"
     ]
    }
   ],
   "source": [
    "iris = datasets.load_iris()\n",
    "X, y = iris.data, iris.target\n",
    "print(type(iris))\n",
    "print(type(X))\n",
    "print(type(y))\n",
    "print(X.shape)\n",
    "print(y.shape)\n",
    "print(X.size)\n",
    "print(y.size)\n",
    "print(X.dtype, y.dtype)"
   ]
  },
  {
   "cell_type": "code",
   "execution_count": 4,
   "id": "0e3de2f6-bcc0-4749-ba55-fe10f252be27",
   "metadata": {},
   "outputs": [
    {
     "name": "stdout",
     "output_type": "stream",
     "text": [
      "<class 'numpy.ndarray'> <class 'numpy.ndarray'> <class 'numpy.ndarray'> <class 'numpy.ndarray'>\n",
      "(120, 4) 480 (30, 4) 120\n",
      "(120,) 120 (30,) 30\n",
      "<class 'numpy.ndarray'> (4,) 4\n",
      "<class 'numpy.ndarray'> (4,) 4\n",
      "<class 'numpy.int64'> () 1\n",
      "<class 'numpy.int64'> () 1\n",
      "[5.1 2.5 3.  1.1] [6.1 3.  4.6 1.4]\n",
      "float64 int64 float64 int64 float64 int64\n"
     ]
    }
   ],
   "source": [
    "X_train, X_test, y_train, y_test = train_test_split(X, y, test_size=0.2, random_state=1234)\n",
    "print(type(X_train), type(X_test), type(y_train), type(y_test))\n",
    "print(X_train.shape, X_train.size, X_test.shape, X_test.size)\n",
    "print(y_train.shape, y_train.size, y_test.shape, y_test.size)\n",
    "print(type(X_train[0]), X_train[0].shape, X_train[0].size)\n",
    "print(type(X_test[0]), X_test[0].shape, X_test[0].size)\n",
    "print(type(y_train[0]), y_train[0].shape, y_train[0].size)\n",
    "print(type(y_test[0]), y_test[0].shape, y_test[0].size)\n",
    "print(X_train[0], X_test[0])\n",
    "print(X_train.dtype, y_train.dtype, X_test.dtype, y_test.dtype, X_train[0].dtype, y_train[0].dtype)"
   ]
  },
  {
   "cell_type": "code",
   "execution_count": null,
   "id": "a717e91c-32ac-47a4-a52e-a2ed0a9f81bc",
   "metadata": {},
   "outputs": [],
   "source": []
  }
 ],
 "metadata": {
  "kernelspec": {
   "display_name": "Python 3 (ipykernel)",
   "language": "python",
   "name": "python3"
  },
  "language_info": {
   "codemirror_mode": {
    "name": "ipython",
    "version": 3
   },
   "file_extension": ".py",
   "mimetype": "text/x-python",
   "name": "python",
   "nbconvert_exporter": "python",
   "pygments_lexer": "ipython3",
   "version": "3.10.12"
  }
 },
 "nbformat": 4,
 "nbformat_minor": 5
}
