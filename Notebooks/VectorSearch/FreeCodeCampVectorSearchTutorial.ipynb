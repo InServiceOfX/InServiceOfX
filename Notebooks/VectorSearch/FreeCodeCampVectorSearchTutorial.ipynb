{
 "cells": [
  {
   "cell_type": "markdown",
   "id": "86f17122",
   "metadata": {},
   "source": [
    "### Setup Jupyter notebook\n",
    "Setup Jupyter notebook to use (Python) modules in this project."
   ]
  },
  {
   "cell_type": "code",
   "execution_count": 1,
   "id": "93a7900b",
   "metadata": {},
   "outputs": [
    {
     "name": "stdout",
     "output_type": "stream",
     "text": [
      "/InServiceOfX\n",
      "Is CoreCode directory in sys.path? False\n",
      "Is notebook directory's ancestor in sys.path? False\n"
     ]
    }
   ],
   "source": [
    "from pathlib import Path\n",
    "import sys\n",
    "\n",
    "# Make this path be the project's \"base\" directory, so we can include modules\n",
    "notebook_directory_ancestor = Path.cwd().resolve().parent.parent\n",
    "print(notebook_directory_ancestor)\n",
    "core_code_directory = notebook_directory_ancestor / \"CoreCode/\"\n",
    "is_core_code_directory_in_sys_path = str(core_code_directory) in sys.path\n",
    "is_notebook_directory_ancestor_in_sys_path = str(notebook_directory_ancestor) in sys.path\n",
    "print(\"Is CoreCode directory in sys.path?\", is_core_code_directory_in_sys_path)\n",
    "print(\"Is notebook directory's ancestor in sys.path?\", is_notebook_directory_ancestor_in_sys_path)"
   ]
  },
  {
   "cell_type": "code",
   "execution_count": 2,
   "id": "861087c9",
   "metadata": {},
   "outputs": [],
   "source": [
    "if not is_core_code_directory_in_sys_path:\n",
    "    sys.path.append(str(core_code_directory))\n",
    "    \n",
    "sys.path.append(str(notebook_directory_ancestor/ \"Embeddings/\"))"
   ]
  },
  {
   "cell_type": "code",
   "execution_count": 3,
   "id": "cdd82e3f",
   "metadata": {},
   "outputs": [],
   "source": [
    "from CoreCode.MongoDBInterface.connect_to_client import connect_to_client\n",
    "from CoreCode.MongoDBInterface.reconstruct_uri import reconstruct_minimal_uri\n",
    "from CoreCode.Utilities.LoadEnvironmentFile import load_environment_file\n",
    "load_environment_file()"
   ]
  },
  {
   "cell_type": "code",
   "execution_count": 4,
   "id": "9902945c",
   "metadata": {},
   "outputs": [],
   "source": [
    "import os, pymongo\n",
    "example_uri_from_env = os.environ.get(\"EXAMPLE_MONGODB_URI\")\n",
    "parsed_uri_dict = pymongo.uri_parser.parse_uri(example_uri_from_env)"
   ]
  },
  {
   "cell_type": "markdown",
   "id": "c532c301",
   "metadata": {},
   "source": [
    "Enter your password for MongoDB."
   ]
  },
  {
   "cell_type": "code",
   "execution_count": 5,
   "id": "5ed181a7",
   "metadata": {},
   "outputs": [],
   "source": [
    "parsed_uri_dict['password'] = \"\"\n",
    "example_uri = reconstruct_minimal_uri(parsed_uri_dict)"
   ]
  },
  {
   "cell_type": "code",
   "execution_count": 6,
   "id": "a26ab3f0",
   "metadata": {},
   "outputs": [
    {
     "name": "stdout",
     "output_type": "stream",
     "text": [
      "<class 'pymongo.mongo_client.MongoClient'>\n",
      "<class 'pymongo.database.Database'>\n",
      "<class 'pymongo.collection.Collection'>\n"
     ]
    }
   ],
   "source": [
    "client = connect_to_client(example_uri)\n",
    "db = client.sample_mflix\n",
    "collection = db.movies\n",
    "print(type(client))\n",
    "print(type(db))\n",
    "print(type(collection))"
   ]
  },
  {
   "cell_type": "code",
   "execution_count": 7,
   "id": "52c415f5",
   "metadata": {},
   "outputs": [],
   "source": [
    "from Embeddings.Text.GenerateEmbedding import (QueryHuggingFaceFeatureExtraction)"
   ]
  },
  {
   "cell_type": "code",
   "execution_count": 8,
   "id": "cbc39ffe",
   "metadata": {},
   "outputs": [],
   "source": [
    "token = os.environ.get(\"HUGGINGFACE_TOKEN\")"
   ]
  },
  {
   "cell_type": "code",
   "execution_count": 9,
   "id": "38975006",
   "metadata": {},
   "outputs": [],
   "source": [
    "query_feature_extraction = QueryHuggingFaceFeatureExtraction(token)"
   ]
  },
  {
   "cell_type": "code",
   "execution_count": 10,
   "id": "8eff9ae5",
   "metadata": {},
   "outputs": [
    {
     "name": "stdout",
     "output_type": "stream",
     "text": [
      "CPU times: user 5.04 s, sys: 148 ms, total: 5.19 s\n",
      "Wall time: 4min 34s\n"
     ]
    }
   ],
   "source": [
    "%%time\n",
    "saved_some_docs = []\n",
    "counter = 0\n",
    "last_doc = None\n",
    "for doc in collection.find({'plot':{\"$exists\": True}}).limit(50):\n",
    "    try:\n",
    "        doc['plot_embedding_hf'] = query_feature_extraction.query_feature_extraction(doc['plot'])\n",
    "    except ValueError as err:\n",
    "        print(err)\n",
    "        print(\"counter: \", counter)\n",
    "        last_doc = doc\n",
    "    collection.replace_one({'_id': doc['_id']}, doc)\n",
    "    saved_some_docs.append(doc)\n",
    "    counter += 1"
   ]
  }
 ],
 "metadata": {
  "kernelspec": {
   "display_name": "Python 3 (ipykernel)",
   "language": "python",
   "name": "python3"
  },
  "language_info": {
   "codemirror_mode": {
    "name": "ipython",
    "version": 3
   },
   "file_extension": ".py",
   "mimetype": "text/x-python",
   "name": "python",
   "nbconvert_exporter": "python",
   "pygments_lexer": "ipython3",
   "version": "3.10.12"
  }
 },
 "nbformat": 4,
 "nbformat_minor": 5
}
