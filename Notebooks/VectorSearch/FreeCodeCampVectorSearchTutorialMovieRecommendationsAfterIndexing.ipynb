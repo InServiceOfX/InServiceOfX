{
 "cells": [
  {
   "cell_type": "code",
   "execution_count": 1,
   "id": "a2830896",
   "metadata": {},
   "outputs": [
    {
     "name": "stdout",
     "output_type": "stream",
     "text": [
      "/InServiceOfX\n",
      "Is CoreCode directory in sys.path? False\n",
      "Is notebook directory's ancestor in sys.path? False\n"
     ]
    }
   ],
   "source": [
    "from pathlib import Path\n",
    "import sys\n",
    "\n",
    "# Make this path be the project's \"base\" directory, so we can include modules\n",
    "notebook_directory_ancestor = Path.cwd().resolve().parent.parent\n",
    "print(notebook_directory_ancestor)\n",
    "core_code_directory = notebook_directory_ancestor / \"CoreCode/\"\n",
    "is_core_code_directory_in_sys_path = str(core_code_directory) in sys.path\n",
    "is_notebook_directory_ancestor_in_sys_path = str(notebook_directory_ancestor) in sys.path\n",
    "print(\"Is CoreCode directory in sys.path?\", is_core_code_directory_in_sys_path)\n",
    "print(\"Is notebook directory's ancestor in sys.path?\", is_notebook_directory_ancestor_in_sys_path)"
   ]
  },
  {
   "cell_type": "code",
   "execution_count": 2,
   "id": "abe96e24",
   "metadata": {},
   "outputs": [],
   "source": [
    "if not is_core_code_directory_in_sys_path:\n",
    "    sys.path.append(str(core_code_directory))\n",
    "    \n",
    "sys.path.append(str(notebook_directory_ancestor/ \"VectorSearch/\"))\n",
    "\n",
    "# Needed for relative import from beyond top-level package\n",
    "sys.path.append(str(notebook_directory_ancestor.parent))"
   ]
  },
  {
   "cell_type": "code",
   "execution_count": 3,
   "id": "f8f38a3b",
   "metadata": {},
   "outputs": [],
   "source": [
    "from CoreCode.MongoDBInterface.connect_to_client import connect_to_client\n",
    "from CoreCode.MongoDBInterface.reconstruct_uri import reconstruct_minimal_uri\n",
    "from CoreCode.Utilities.LoadEnvironmentFile import load_environment_file\n",
    "load_environment_file()"
   ]
  },
  {
   "cell_type": "code",
   "execution_count": 4,
   "id": "aa3e6b75",
   "metadata": {},
   "outputs": [],
   "source": [
    "import os, pymongo\n",
    "example_uri_from_env = os.environ.get(\"EXAMPLE_MONGODB_URI\")\n",
    "parsed_uri_dict = pymongo.uri_parser.parse_uri(example_uri_from_env)"
   ]
  },
  {
   "cell_type": "markdown",
   "id": "0cf71e1c",
   "metadata": {},
   "source": [
    "Enter your password for MongoDB."
   ]
  },
  {
   "cell_type": "code",
   "execution_count": 5,
   "id": "79e3c556",
   "metadata": {},
   "outputs": [],
   "source": [
    "parsed_uri_dict['password'] = \"\"\n",
    "example_uri = reconstruct_minimal_uri(parsed_uri_dict)"
   ]
  },
  {
   "cell_type": "code",
   "execution_count": 6,
   "id": "cbf7f059",
   "metadata": {},
   "outputs": [
    {
     "name": "stdout",
     "output_type": "stream",
     "text": [
      "<class 'pymongo.mongo_client.MongoClient'>\n",
      "<class 'pymongo.database.Database'>\n",
      "<class 'pymongo.collection.Collection'>\n",
      "CPU times: user 58.7 ms, sys: 17 ms, total: 75.7 ms\n",
      "Wall time: 14.4 s\n"
     ]
    }
   ],
   "source": [
    "%%time\n",
    "client = connect_to_client(example_uri)\n",
    "db = client.sample_mflix\n",
    "collection = db.movies\n",
    "print(type(client))\n",
    "print(type(db))\n",
    "print(type(collection))"
   ]
  },
  {
   "cell_type": "code",
   "execution_count": null,
   "id": "06a8ffcd",
   "metadata": {},
   "outputs": [],
   "source": [
    "from VectorSearch.WithMongoDB.SearchSampleMovies import SearchSampleMovies"
   ]
  },
  {
   "cell_type": "code",
   "execution_count": null,
   "id": "c657d31c",
   "metadata": {},
   "outputs": [],
   "source": [
    "token = os.environ.get(\"HUGGINGFACE_TOKEN\")"
   ]
  },
  {
   "cell_type": "code",
   "execution_count": null,
   "id": "e8789dc8",
   "metadata": {},
   "outputs": [],
   "source": [
    "query = \"imaginary characters from outer space at war\""
   ]
  },
  {
   "cell_type": "code",
   "execution_count": null,
   "id": "bf85e80c",
   "metadata": {},
   "outputs": [],
   "source": [
    "%%timeit\n",
    "search_sample_movies = SearchSampleMovies(token)\n",
    "results = search_sample_movies.search(query, collection)"
   ]
  },
  {
   "cell_type": "code",
   "execution_count": null,
   "id": "a7c48043",
   "metadata": {},
   "outputs": [],
   "source": [
    "for document in results:\n",
    "    print(f'Movie Name: {document[\"title\"]},\\nMovie Plot: {document[\"plot\"]}\\n')"
   ]
  },
  {
   "cell_type": "markdown",
   "id": "fe25e12b",
   "metadata": {},
   "source": [
    "# With OpenAI API\n",
    "\n",
    "See the \"second part\" of the first project presented in [Vector Search RAG Tutorial - Combine Your Data with LLMs with Advanced Search](https://youtu.be/JEBDfGqrAUA?si=q2q_O_OquqpHcgms&t=1873) by [freeCodeCamp.org](https://www.youtube.com/@freecodecamp)"
   ]
  },
  {
   "cell_type": "code",
   "execution_count": 7,
   "id": "1a99e6f3",
   "metadata": {},
   "outputs": [],
   "source": [
    "embedded_collection = db.embedded_movies"
   ]
  },
  {
   "cell_type": "code",
   "execution_count": 8,
   "id": "9ad1d87a",
   "metadata": {},
   "outputs": [],
   "source": [
    "from VectorSearch.WithMongoDB.SearchSampleMovies import SearchSampleMoviesWithOpenAI"
   ]
  },
  {
   "cell_type": "code",
   "execution_count": 9,
   "id": "a0a08ec6",
   "metadata": {},
   "outputs": [],
   "source": [
    "openai_api_key = os.environ.get(\"OPENAI_API_KEY\")\n",
    "search = SearchSampleMoviesWithOpenAI(api_key=openai_api_key)"
   ]
  },
  {
   "cell_type": "code",
   "execution_count": 10,
   "id": "9a83426f",
   "metadata": {},
   "outputs": [],
   "source": [
    "query=\"imaginary characters from outer space at war\""
   ]
  },
  {
   "cell_type": "code",
   "execution_count": 11,
   "id": "66b39c3e",
   "metadata": {},
   "outputs": [
    {
     "name": "stdout",
     "output_type": "stream",
     "text": [
      "CPU times: user 462 ms, sys: 421 ms, total: 883 ms\n",
      "Wall time: 5.55 s\n"
     ]
    }
   ],
   "source": [
    "%%time\n",
    "results = search.search(query, embedded_collection)"
   ]
  },
  {
   "cell_type": "code",
   "execution_count": 12,
   "id": "ba1a5597",
   "metadata": {},
   "outputs": [
    {
     "name": "stdout",
     "output_type": "stream",
     "text": [
      "Movie Name: V: The Final Battle,\n",
      "Movie Plot: A small group of human resistance fighters fight a desperate guerilla war against the genocidal extra-terrestrials who dominate Earth.\n",
      "\n",
      "Movie Name: Pixels,\n",
      "Movie Plot: When aliens misinterpret video feeds of classic arcade games as a declaration of war, they attack the Earth in the form of the video games.\n",
      "\n",
      "Movie Name: Futurama: Bender's Game,\n",
      "Movie Plot: The Planet Express crew get trapped in a fantasy world.\n",
      "\n",
      "Movie Name: Guardians of the Galaxy,\n",
      "Movie Plot: A group of intergalactic criminals are forced to work together to stop a fanatical warrior from taking control of the universe.\n",
      "\n"
     ]
    }
   ],
   "source": [
    "for document in results:\n",
    "    print(f'Movie Name: {document[\"title\"]},\\nMovie Plot: {document[\"plot\"]}\\n')"
   ]
  },
  {
   "cell_type": "code",
   "execution_count": null,
   "id": "787eb5e0",
   "metadata": {},
   "outputs": [],
   "source": []
  }
 ],
 "metadata": {
  "kernelspec": {
   "display_name": "Python 3 (ipykernel)",
   "language": "python",
   "name": "python3"
  },
  "language_info": {
   "codemirror_mode": {
    "name": "ipython",
    "version": 3
   },
   "file_extension": ".py",
   "mimetype": "text/x-python",
   "name": "python",
   "nbconvert_exporter": "python",
   "pygments_lexer": "ipython3",
   "version": "3.10.12"
  }
 },
 "nbformat": 4,
 "nbformat_minor": 5
}
